{
 "cells": [
  {
   "cell_type": "code",
   "execution_count": 3,
   "metadata": {},
   "outputs": [],
   "source": [
    "import csv\n",
    "import numpy as np\n"
   ]
  },
  {
   "cell_type": "code",
   "execution_count": 7,
   "metadata": {},
   "outputs": [],
   "source": [
    "fieldnames=['Timestamp','ID','DLC','D1','D2','D3','D4','D5','D6','D7','D8']\n",
    "textfile=open(\"Data/normal_run_data.txt\")\n",
    "csvfile=open(\"Data/normal_run_data.csv\",\"w\")\n",
    "\n",
    "lines=textfile.readlines()\n",
    "writer = csv.writer(csvfile)\n",
    "writer.writerow(fieldnames)\n",
    "\n",
    "for line in lines:\n",
    "    word=line.split()\n",
    "    dlc=word[6]\n",
    "    i=[7+i for i in range(int(dlc))]\n",
    "    t=(1,3,6)+tuple(i)\n",
    "    input=[word[i] for i in t]\n",
    "    writer.writerow(input)\n"
   ]
  }
 ],
 "metadata": {
  "kernelspec": {
   "display_name": "Python 3.7.0 64-bit",
   "language": "python",
   "name": "python3"
  },
  "language_info": {
   "codemirror_mode": {
    "name": "ipython",
    "version": 3
   },
   "file_extension": ".py",
   "mimetype": "text/x-python",
   "name": "python",
   "nbconvert_exporter": "python",
   "pygments_lexer": "ipython3",
   "version": "3.7.0"
  },
  "orig_nbformat": 4,
  "vscode": {
   "interpreter": {
    "hash": "e774977668b7c0ae8309835a5187aa7fbf7669e7d0bb59755bc63e573643edcd"
   }
  }
 },
 "nbformat": 4,
 "nbformat_minor": 2
}
