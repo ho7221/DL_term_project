{
  "cells": [
    {
      "cell_type": "code",
      "source": [
        "from google.colab import drive\n",
        "drive.mount('/content/drive')"
      ],
      "metadata": {
        "id": "S8kohTkH4yy2",
        "outputId": "a1797d09-59f9-4396-90b8-b9b4ed9b4d04",
        "colab": {
          "base_uri": "https://localhost:8080/"
        }
      },
      "execution_count": 1,
      "outputs": [
        {
          "output_type": "stream",
          "name": "stdout",
          "text": [
            "Mounted at /content/drive\n"
          ]
        }
      ]
    },
    {
      "cell_type": "code",
      "execution_count": 2,
      "metadata": {
        "id": "l2R8dhfkvixs"
      },
      "outputs": [],
      "source": [
        "import numpy as np\n",
        "import matplotlib.pyplot as plt\n",
        "import pandas as pd\n",
        "import tensorflow as tf\n",
        "import seaborn as sns\n",
        "import IPython\n",
        "import IPython.display"
      ]
    },
    {
      "cell_type": "code",
      "execution_count": 3,
      "metadata": {
        "id": "a3cGF8csvixt"
      },
      "outputs": [],
      "source": [
        "df=pd.read_csv('/content/drive/MyDrive/CANIDS/Data/normal_run_data.csv')\n",
        "df['label']='R'\n",
        "\n",
        "colnames=['Timestamp', 'ID', 'DLC', 'D1', 'D2', 'D3', 'D4', 'D5', 'D6', 'D7', 'D8','label'] \n",
        "DoS_df=pd.read_csv('/content/drive/MyDrive/CANIDS/Data/DoS_dataset.csv',names=colnames)"
      ]
    },
    {
      "cell_type": "code",
      "source": [
        "df.dtypes"
      ],
      "metadata": {
        "id": "kJ9BwCil1oMT",
        "outputId": "c52bde13-3672-4047-a8db-1819b61dccf8",
        "colab": {
          "base_uri": "https://localhost:8080/"
        }
      },
      "execution_count": 4,
      "outputs": [
        {
          "output_type": "execute_result",
          "data": {
            "text/plain": [
              "Timestamp    float64\n",
              "ID            object\n",
              "DLC            int64\n",
              "D1            object\n",
              "D2            object\n",
              "D3            object\n",
              "D4            object\n",
              "D5            object\n",
              "D6            object\n",
              "D7            object\n",
              "D8            object\n",
              "label         object\n",
              "dtype: object"
            ]
          },
          "metadata": {},
          "execution_count": 4
        }
      ]
    },
    {
      "cell_type": "code",
      "execution_count": 5,
      "metadata": {
        "id": "h_W5zrAlvixu"
      },
      "outputs": [],
      "source": [
        "def h2i(s):\n",
        "    return int(s,16)"
      ]
    },
    {
      "cell_type": "code",
      "source": [
        "def s2i(s):\n",
        "    if s=='R':\n",
        "      return 0\n",
        "    else:\n",
        "      return 1"
      ],
      "metadata": {
        "id": "RoDmS01625kI"
      },
      "execution_count": 6,
      "outputs": []
    },
    {
      "cell_type": "code",
      "source": [
        "def d2t(s):\n",
        "  return pd.Timestamp(s,unit=\"s\")"
      ],
      "metadata": {
        "id": "8D-jpHLZxgL3"
      },
      "execution_count": 7,
      "outputs": []
    },
    {
      "cell_type": "code",
      "source": [
        "df['ID']=df['ID'].apply(h2i)\n",
        "DoS_df['ID']=DoS_df['ID'].apply(h2i)"
      ],
      "metadata": {
        "id": "Gb-21hB5oWK4"
      },
      "execution_count": 8,
      "outputs": []
    },
    {
      "cell_type": "code",
      "source": [
        "df_time=df['Timestamp'].apply(d2t)\n",
        "DoS_df_time=DoS_df['Timestamp'].apply(d2t)\n",
        "df.pop('Timestamp')\n",
        "DoS_df.pop('Timestamp')"
      ],
      "metadata": {
        "id": "Ox1NWFpzx69R",
        "outputId": "e5371017-98cf-41a4-c0fd-438ca1523346",
        "colab": {
          "base_uri": "https://localhost:8080/"
        }
      },
      "execution_count": 9,
      "outputs": [
        {
          "output_type": "execute_result",
          "data": {
            "text/plain": [
              "0          1.478198e+09\n",
              "1          1.478198e+09\n",
              "2          1.478198e+09\n",
              "3          1.478198e+09\n",
              "4          1.478198e+09\n",
              "               ...     \n",
              "3665766    1.478201e+09\n",
              "3665767    1.478201e+09\n",
              "3665768    1.478201e+09\n",
              "3665769    1.478201e+09\n",
              "3665770    1.478201e+09\n",
              "Name: Timestamp, Length: 3665771, dtype: float64"
            ]
          },
          "metadata": {},
          "execution_count": 9
        }
      ]
    },
    {
      "cell_type": "code",
      "source": [
        "df['label']=df['label'].apply(s2i)\n",
        "DoS_df['label']=df['label'].apply(s2i)"
      ],
      "metadata": {
        "id": "bWyqA7mNZHb-"
      },
      "execution_count": 10,
      "outputs": []
    },
    {
      "cell_type": "code",
      "source": [
        "df=df.astype({'ID':'float','DLC':'float','label':'float'})"
      ],
      "metadata": {
        "id": "jpuTqxNhZUT3"
      },
      "execution_count": 11,
      "outputs": []
    },
    {
      "cell_type": "code",
      "source": [
        "df.dtypes"
      ],
      "metadata": {
        "id": "w5aVDnOr0Pmz",
        "outputId": "8f25f7e4-fe1b-4bab-832a-bfd7976a6986",
        "colab": {
          "base_uri": "https://localhost:8080/"
        }
      },
      "execution_count": 12,
      "outputs": [
        {
          "output_type": "execute_result",
          "data": {
            "text/plain": [
              "ID       float64\n",
              "DLC      float64\n",
              "D1        object\n",
              "D2        object\n",
              "D3        object\n",
              "D4        object\n",
              "D5        object\n",
              "D6        object\n",
              "D7        object\n",
              "D8        object\n",
              "label    float64\n",
              "dtype: object"
            ]
          },
          "metadata": {},
          "execution_count": 12
        }
      ]
    },
    {
      "cell_type": "code",
      "source": [
        "plot_features = df['ID'][0:1000]\n",
        "plot_features.index = df_time[0:1000]\n",
        "_ = plot_features.plot(subplots=True)"
      ],
      "metadata": {
        "id": "YNWt1Zaj0En5",
        "outputId": "3dfb1373-a37f-42cd-e239-e66cf10951ee",
        "colab": {
          "base_uri": "https://localhost:8080/",
          "height": 281
        }
      },
      "execution_count": 13,
      "outputs": [
        {
          "output_type": "display_data",
          "data": {
            "text/plain": [
              "<Figure size 432x288 with 1 Axes>"
            ],
            "image/png": "[encoded data removed]"
          },
          "metadata": {
            "needs_background": "light"
          }
        }
      ]
    },
    {
      "cell_type": "code",
      "source": [
        "plot_features = df['ID'][0:200]\n",
        "plot_features.index = df_time[0:200]\n",
        "_ = plot_features.plot(subplots=True)"
      ],
      "metadata": {
        "id": "rI-xLM8GW7ir",
        "outputId": "b933c18d-db3a-4173-f5fb-ec88be150b82",
        "colab": {
          "base_uri": "https://localhost:8080/",
          "height": 243
        }
      },
      "execution_count": 14,
      "outputs": [
        {
          "output_type": "display_data",
          "data": {
            "text/plain": [
              "<Figure size 432x288 with 1 Axes>"
            ],
            "image/png": "[encoded data removed]"
          },
          "metadata": {
            "needs_background": "light"
          }
        }
      ]
    },
    {
      "cell_type": "code",
      "source": [
        "df_=df.drop(columns={'DLC', 'D1', 'D2', 'D3', 'D4', 'D5', 'D6', 'D7', 'D8'})"
      ],
      "metadata": {
        "id": "QhkheuqXaccf"
      },
      "execution_count": 15,
      "outputs": []
    },
    {
      "cell_type": "code",
      "source": [
        "column_indices = {name: i for i, name in enumerate(df_.columns)}\n",
        "\n",
        "n = len(df_)\n",
        "train_df = df_[0:int(n*0.7)]\n",
        "val_df = df_[int(n*0.7):int(n*0.9)]\n",
        "test_df = df_[int(n*0.9):]\n",
        "\n",
        "num_features = df_.shape[1]"
      ],
      "metadata": {
        "id": "uj3FK-4DLnwv"
      },
      "execution_count": 16,
      "outputs": []
    },
    {
      "cell_type": "code",
      "source": [
        "class WindowGenerator():\n",
        "  def __init__(self, input_width, label_width, shift,\n",
        "               train_df=train_df, val_df=val_df, test_df=test_df,\n",
        "               label_columns=None):\n",
        "    # Store the raw data.\n",
        "    self.train_df = train_df\n",
        "    self.val_df = val_df\n",
        "    self.test_df = test_df\n",
        "\n",
        "    # Work out the label column indices.\n",
        "    self.label_columns = label_columns\n",
        "    if label_columns is not None:\n",
        "      self.label_columns_indices = {name: i for i, name in\n",
        "                                    enumerate(label_columns)}\n",
        "    self.column_indices = {name: i for i, name in\n",
        "                           enumerate(train_df.columns)}\n",
        "\n",
        "    # Work out the window parameters.\n",
        "    self.input_width = input_width\n",
        "    self.label_width = label_width\n",
        "    self.shift = shift\n",
        "\n",
        "    self.total_window_size = input_width + shift\n",
        "\n",
        "    self.input_slice = slice(0, input_width)\n",
        "    self.input_indices = np.arange(self.total_window_size)[self.input_slice]\n",
        "\n",
        "    self.label_start = self.total_window_size - self.label_width\n",
        "    self.labels_slice = slice(self.label_start, None)\n",
        "    self.label_indices = np.arange(self.total_window_size)[self.labels_slice]\n",
        "\n",
        "  def __repr__(self):\n",
        "    return '\\n'.join([\n",
        "        f'Total window size: {self.total_window_size}',\n",
        "        f'Input indices: {self.input_indices}',\n",
        "        f'Label indices: {self.label_indices}',\n",
        "        f'Label column name(s): {self.label_columns}'])"
      ],
      "metadata": {
        "id": "sg-Vki3zpI6T"
      },
      "execution_count": 17,
      "outputs": []
    },
    {
      "cell_type": "code",
      "source": [
        "w2 = WindowGenerator(input_width=200, label_width=1, shift=1,\n",
        "                     label_columns=['ID'])\n",
        "w2"
      ],
      "metadata": {
        "id": "OKXOU60TpSd0",
        "outputId": "4d299843-e257-465c-9750-dda047dfc292",
        "colab": {
          "base_uri": "https://localhost:8080/"
        }
      },
      "execution_count": 18,
      "outputs": [
        {
          "output_type": "execute_result",
          "data": {
            "text/plain": [
              "Total window size: 201\n",
              "Input indices: [  0   1   2   3   4   5   6   7   8   9  10  11  12  13  14  15  16  17\n",
              "  18  19  20  21  22  23  24  25  26  27  28  29  30  31  32  33  34  35\n",
              "  36  37  38  39  40  41  42  43  44  45  46  47  48  49  50  51  52  53\n",
              "  54  55  56  57  58  59  60  61  62  63  64  65  66  67  68  69  70  71\n",
              "  72  73  74  75  76  77  78  79  80  81  82  83  84  85  86  87  88  89\n",
              "  90  91  92  93  94  95  96  97  98  99 100 101 102 103 104 105 106 107\n",
              " 108 109 110 111 112 113 114 115 116 117 118 119 120 121 122 123 124 125\n",
              " 126 127 128 129 130 131 132 133 134 135 136 137 138 139 140 141 142 143\n",
              " 144 145 146 147 148 149 150 151 152 153 154 155 156 157 158 159 160 161\n",
              " 162 163 164 165 166 167 168 169 170 171 172 173 174 175 176 177 178 179\n",
              " 180 181 182 183 184 185 186 187 188 189 190 191 192 193 194 195 196 197\n",
              " 198 199]\n",
              "Label indices: [200]\n",
              "Label column name(s): ['ID']"
            ]
          },
          "metadata": {},
          "execution_count": 18
        }
      ]
    },
    {
      "cell_type": "code",
      "source": [
        "def split_window(self, features):\n",
        "  inputs = features[:, self.input_slice, :]\n",
        "  labels = features[:, self.labels_slice, :]\n",
        "  if self.label_columns is not None:\n",
        "    labels = tf.stack(\n",
        "        [labels[:, :, self.column_indices[name]] for name in self.label_columns],\n",
        "        axis=-1)\n",
        "\n",
        "  # Slicing doesn't preserve static shape information, so set the shapes\n",
        "  # manually. This way the `tf.data.Datasets` are easier to inspect.\n",
        "  inputs.set_shape([None, self.input_width, None])\n",
        "  labels.set_shape([None, self.label_width, None])\n",
        "\n",
        "  return inputs, labels\n",
        "\n",
        "WindowGenerator.split_window = split_window"
      ],
      "metadata": {
        "id": "UW_XmtPbqNRT"
      },
      "execution_count": 19,
      "outputs": []
    },
    {
      "cell_type": "code",
      "source": [
        "# Stack three slices, the length of the total window.\n",
        "example_window = tf.stack([np.asarray(train_df[:w2.total_window_size]),np.asarray(train_df[200:200+w2.total_window_size]),np.asarray(train_df[400:400+w2.total_window_size])])\n",
        "\n",
        "example_inputs, example_labels = w2.split_window(example_window)\n",
        "\n",
        "print('All shapes are: (batch, time, features)')\n",
        "print(f'Window shape: {example_window.shape}')\n",
        "print(f'Inputs shape: {example_inputs.shape}')\n",
        "print(f'Labels shape: {example_labels.shape}')"
      ],
      "metadata": {
        "id": "JFtsat85rv-9",
        "outputId": "2a9b6a66-530b-46e1-9611-88610dd5e2d1",
        "colab": {
          "base_uri": "https://localhost:8080/"
        }
      },
      "execution_count": 20,
      "outputs": [
        {
          "output_type": "stream",
          "name": "stdout",
          "text": [
            "All shapes are: (batch, time, features)\n",
            "Window shape: (3, 201, 2)\n",
            "Inputs shape: (3, 200, 2)\n",
            "Labels shape: (3, 1, 1)\n"
          ]
        }
      ]
    },
    {
      "cell_type": "code",
      "source": [
        "def make_dataset(self, data):\n",
        "  data = np.array(data, dtype=np.float32)\n",
        "  ds = tf.keras.preprocessing.timeseries_dataset_from_array(\n",
        "      data=data,\n",
        "      targets=None,\n",
        "      sequence_length=self.total_window_size,\n",
        "      sequence_stride=1,\n",
        "      shuffle=True,\n",
        "      batch_size=32,)\n",
        "\n",
        "  ds = ds.map(self.split_window)\n",
        "\n",
        "  return ds\n",
        "\n",
        "WindowGenerator.make_dataset = make_dataset"
      ],
      "metadata": {
        "id": "Sn2_QVLhdLj3"
      },
      "execution_count": 21,
      "outputs": []
    },
    {
      "cell_type": "code",
      "source": [
        "@property\n",
        "def train(self):\n",
        "  return self.make_dataset(self.train_df)\n",
        "\n",
        "@property\n",
        "def val(self):\n",
        "  return self.make_dataset(self.val_df)\n",
        "\n",
        "@property\n",
        "def test(self):\n",
        "  return self.make_dataset(self.test_df)\n",
        "\n",
        "@property\n",
        "def example(self):\n",
        "  \"\"\"Get and cache an example batch of `inputs, labels` for plotting.\"\"\"\n",
        "  result = getattr(self, '_example', None)\n",
        "  if result is None:\n",
        "    # No example batch was found, so get one from the `.train` dataset\n",
        "    result = next(iter(self.train))\n",
        "    # And cache it for next time\n",
        "    self._example = result\n",
        "  return result\n",
        "\n",
        "WindowGenerator.train = train\n",
        "WindowGenerator.val = val\n",
        "WindowGenerator.test = test\n",
        "WindowGenerator.example = example"
      ],
      "metadata": {
        "id": "jvWHpyt4dPwa"
      },
      "execution_count": 22,
      "outputs": []
    },
    {
      "cell_type": "code",
      "source": [
        "val_performance = {}\n",
        "performance = {}"
      ],
      "metadata": {
        "id": "fZ-wNR1Vcwp5"
      },
      "execution_count": 23,
      "outputs": []
    },
    {
      "cell_type": "code",
      "source": [
        "MAX_EPOCHS = 5\n",
        "\n",
        "def compile_and_fit(model, window, patience=2):\n",
        "  early_stopping = tf.keras.callbacks.EarlyStopping(monitor='val_loss',\n",
        "                                                    patience=patience,\n",
        "                                                    mode='min')\n",
        "\n",
        "  model.compile(loss=tf.losses.MeanSquaredError(),\n",
        "                optimizer=tf.optimizers.Adam(),\n",
        "                metrics=[tf.metrics.MeanAbsoluteError()])\n",
        "\n",
        "  history = model.fit(window.train, epochs=MAX_EPOCHS,\n",
        "                      validation_data=window.val,\n",
        "                      callbacks=[early_stopping])\n",
        "  return history"
      ],
      "metadata": {
        "id": "7jhFvq1Rc1v-"
      },
      "execution_count": 24,
      "outputs": []
    },
    {
      "cell_type": "markdown",
      "source": [
        "## CNN"
      ],
      "metadata": {
        "id": "E8WuLgp3b91c"
      }
    },
    {
      "cell_type": "code",
      "source": [
        "CONV_WIDTH = 200\n",
        "conv_window = WindowGenerator(\n",
        "    input_width=CONV_WIDTH,\n",
        "    label_width=1,\n",
        "    shift=1,\n",
        "    label_columns=['ID'])\n",
        "\n",
        "conv_window"
      ],
      "metadata": {
        "id": "QI8MasBQcYvn",
        "outputId": "36644817-900d-4d12-eb4e-fe08d3698c53",
        "colab": {
          "base_uri": "https://localhost:8080/"
        }
      },
      "execution_count": 49,
      "outputs": [
        {
          "output_type": "execute_result",
          "data": {
            "text/plain": [
              "Total window size: 201\n",
              "Input indices: [  0   1   2   3   4   5   6   7   8   9  10  11  12  13  14  15  16  17\n",
              "  18  19  20  21  22  23  24  25  26  27  28  29  30  31  32  33  34  35\n",
              "  36  37  38  39  40  41  42  43  44  45  46  47  48  49  50  51  52  53\n",
              "  54  55  56  57  58  59  60  61  62  63  64  65  66  67  68  69  70  71\n",
              "  72  73  74  75  76  77  78  79  80  81  82  83  84  85  86  87  88  89\n",
              "  90  91  92  93  94  95  96  97  98  99 100 101 102 103 104 105 106 107\n",
              " 108 109 110 111 112 113 114 115 116 117 118 119 120 121 122 123 124 125\n",
              " 126 127 128 129 130 131 132 133 134 135 136 137 138 139 140 141 142 143\n",
              " 144 145 146 147 148 149 150 151 152 153 154 155 156 157 158 159 160 161\n",
              " 162 163 164 165 166 167 168 169 170 171 172 173 174 175 176 177 178 179\n",
              " 180 181 182 183 184 185 186 187 188 189 190 191 192 193 194 195 196 197\n",
              " 198 199]\n",
              "Label indices: [200]\n",
              "Label column name(s): ['ID']"
            ]
          },
          "metadata": {},
          "execution_count": 49
        }
      ]
    },
    {
      "cell_type": "code",
      "source": [
        "conv_model = tf.keras.Sequential([\n",
        "    tf.keras.layers.Conv1D(filters=32,\n",
        "                           kernel_size=(CONV_WIDTH,),\n",
        "                           activation='relu'),\n",
        "    tf.keras.layers.Dense(units=32, activation='relu'),\n",
        "    tf.keras.layers.Dense(units=1),\n",
        "])"
      ],
      "metadata": {
        "id": "uVjq5Z5sb9oZ"
      },
      "execution_count": 50,
      "outputs": []
    },
    {
      "cell_type": "code",
      "source": [
        "multi_step_dense = tf.keras.Sequential([\n",
        "    # Shape: (time, features) => (time*features)\n",
        "    tf.keras.layers.Flatten(),\n",
        "    tf.keras.layers.Dense(units=32, activation='relu'),\n",
        "    tf.keras.layers.Dense(units=32, activation='relu'),\n",
        "    tf.keras.layers.Dense(units=1),\n",
        "    # Add back the time dimension.\n",
        "    # Shape: (outputs) => (1, outputs)\n",
        "    tf.keras.layers.Reshape([1, -1]),\n",
        "])"
      ],
      "metadata": {
        "id": "2nxhg-Zdcl77"
      },
      "execution_count": 51,
      "outputs": []
    },
    {
      "cell_type": "code",
      "source": [
        "history = compile_and_fit(multi_step_dense, conv_window)\n",
        "\n",
        "IPython.display.clear_output()\n",
        "val_performance['Multi step dense'] = multi_step_dense.evaluate(conv_window.val)\n",
        "performance['Multi step dense'] = multi_step_dense.evaluate(conv_window.test, verbose=0)\n"
      ],
      "metadata": {
        "id": "d7BWF8RqcrH3",
        "outputId": "408e79d0-8ec2-4be0-d52a-1496c44a1371",
        "colab": {
          "base_uri": "https://localhost:8080/"
        }
      },
      "execution_count": 58,
      "outputs": [
        {
          "output_type": "stream",
          "name": "stdout",
          "text": [
            "6174/6174 [==============================] - 23s 4ms/step - loss: 23126.8066 - mean_absolute_error: 80.5229\n"
          ]
        }
      ]
    },
    {
      "cell_type": "markdown",
      "source": [
        "## RNN with GRU windows w/ window size 200"
      ],
      "metadata": {
        "id": "s68uXerpcBws"
      }
    },
    {
      "cell_type": "code",
      "source": [
        "GRU_model = tf.keras.models.Sequential([\n",
        "    # Shape [batch, time, features] => [batch, time, lstm_units]\n",
        "    tf.keras.layers.GRU(32, return_sequences=True),\n",
        "    # Shape => [batch, time, features]\n",
        "    tf.keras.layers.Dense(units=1)\n",
        "])"
      ],
      "metadata": {
        "id": "fpTzj9dEbgdS"
      },
      "execution_count": 59,
      "outputs": []
    },
    {
      "cell_type": "code",
      "source": [
        "wide_window = WindowGenerator(\n",
        "    input_width=200, label_width=200, shift=1,\n",
        "    label_columns=['ID'])\n",
        "\n",
        "wide_window"
      ],
      "metadata": {
        "id": "Ckj5pZAXdf3c",
        "outputId": "0297fa49-d288-43c9-d145-144bb764aa00",
        "colab": {
          "base_uri": "https://localhost:8080/"
        }
      },
      "execution_count": 60,
      "outputs": [
        {
          "output_type": "execute_result",
          "data": {
            "text/plain": [
              "Total window size: 201\n",
              "Input indices: [  0   1   2   3   4   5   6   7   8   9  10  11  12  13  14  15  16  17\n",
              "  18  19  20  21  22  23  24  25  26  27  28  29  30  31  32  33  34  35\n",
              "  36  37  38  39  40  41  42  43  44  45  46  47  48  49  50  51  52  53\n",
              "  54  55  56  57  58  59  60  61  62  63  64  65  66  67  68  69  70  71\n",
              "  72  73  74  75  76  77  78  79  80  81  82  83  84  85  86  87  88  89\n",
              "  90  91  92  93  94  95  96  97  98  99 100 101 102 103 104 105 106 107\n",
              " 108 109 110 111 112 113 114 115 116 117 118 119 120 121 122 123 124 125\n",
              " 126 127 128 129 130 131 132 133 134 135 136 137 138 139 140 141 142 143\n",
              " 144 145 146 147 148 149 150 151 152 153 154 155 156 157 158 159 160 161\n",
              " 162 163 164 165 166 167 168 169 170 171 172 173 174 175 176 177 178 179\n",
              " 180 181 182 183 184 185 186 187 188 189 190 191 192 193 194 195 196 197\n",
              " 198 199]\n",
              "Label indices: [  1   2   3   4   5   6   7   8   9  10  11  12  13  14  15  16  17  18\n",
              "  19  20  21  22  23  24  25  26  27  28  29  30  31  32  33  34  35  36\n",
              "  37  38  39  40  41  42  43  44  45  46  47  48  49  50  51  52  53  54\n",
              "  55  56  57  58  59  60  61  62  63  64  65  66  67  68  69  70  71  72\n",
              "  73  74  75  76  77  78  79  80  81  82  83  84  85  86  87  88  89  90\n",
              "  91  92  93  94  95  96  97  98  99 100 101 102 103 104 105 106 107 108\n",
              " 109 110 111 112 113 114 115 116 117 118 119 120 121 122 123 124 125 126\n",
              " 127 128 129 130 131 132 133 134 135 136 137 138 139 140 141 142 143 144\n",
              " 145 146 147 148 149 150 151 152 153 154 155 156 157 158 159 160 161 162\n",
              " 163 164 165 166 167 168 169 170 171 172 173 174 175 176 177 178 179 180\n",
              " 181 182 183 184 185 186 187 188 189 190 191 192 193 194 195 196 197 198\n",
              " 199 200]\n",
              "Label column name(s): ['ID']"
            ]
          },
          "metadata": {},
          "execution_count": 60
        }
      ]
    },
    {
      "cell_type": "code",
      "source": [
        "history = compile_and_fit(GRU_model, wide_window)\n",
        "\n",
        "IPython.display.clear_output()\n",
        "val_performance['GRU'] = GRU_model.evaluate(wide_window.val)\n",
        "performance['GRU'] = GRU_model.evaluate(wide_window.test, verbose=0)"
      ],
      "metadata": {
        "id": "CA8W4vbxbzRP",
        "outputId": "2b0b6c5c-b682-49fb-d269-742f75a4029c",
        "colab": {
          "base_uri": "https://localhost:8080/"
        }
      },
      "execution_count": 61,
      "outputs": [
        {
          "output_type": "stream",
          "name": "stdout",
          "text": [
            "6174/6174 [==============================] - 45s 7ms/step - loss: 77694.2422 - mean_absolute_error: 181.7979\n"
          ]
        }
      ]
    },
    {
      "cell_type": "markdown",
      "source": [
        "## RNN with GRU windows w/ window size 100"
      ],
      "metadata": {
        "id": "u7g7tvNIyblK"
      }
    },
    {
      "cell_type": "code",
      "source": [
        "GRU_model = tf.keras.models.Sequential([\n",
        "    # Shape [batch, time, features] => [batch, time, lstm_units]\n",
        "    tf.keras.layers.GRU(32, return_sequences=True),\n",
        "    # Shape => [batch, time, features]\n",
        "    tf.keras.layers.Dense(units=1)\n",
        "])"
      ],
      "metadata": {
        "id": "5qBMXtNoyaya"
      },
      "execution_count": 25,
      "outputs": []
    },
    {
      "cell_type": "code",
      "source": [
        "wide_window = WindowGenerator(\n",
        "    input_width=200, label_width=200, shift=1,\n",
        "    label_columns=['ID'])\n",
        "\n",
        "wide_window"
      ],
      "metadata": {
        "id": "_9zts2BkyGIX",
        "outputId": "1ee687d9-61ee-4536-e088-d583e4dcbcec",
        "colab": {
          "base_uri": "https://localhost:8080/"
        }
      },
      "execution_count": 26,
      "outputs": [
        {
          "output_type": "execute_result",
          "data": {
            "text/plain": [
              "Total window size: 201\n",
              "Input indices: [  0   1   2   3   4   5   6   7   8   9  10  11  12  13  14  15  16  17\n",
              "  18  19  20  21  22  23  24  25  26  27  28  29  30  31  32  33  34  35\n",
              "  36  37  38  39  40  41  42  43  44  45  46  47  48  49  50  51  52  53\n",
              "  54  55  56  57  58  59  60  61  62  63  64  65  66  67  68  69  70  71\n",
              "  72  73  74  75  76  77  78  79  80  81  82  83  84  85  86  87  88  89\n",
              "  90  91  92  93  94  95  96  97  98  99 100 101 102 103 104 105 106 107\n",
              " 108 109 110 111 112 113 114 115 116 117 118 119 120 121 122 123 124 125\n",
              " 126 127 128 129 130 131 132 133 134 135 136 137 138 139 140 141 142 143\n",
              " 144 145 146 147 148 149 150 151 152 153 154 155 156 157 158 159 160 161\n",
              " 162 163 164 165 166 167 168 169 170 171 172 173 174 175 176 177 178 179\n",
              " 180 181 182 183 184 185 186 187 188 189 190 191 192 193 194 195 196 197\n",
              " 198 199]\n",
              "Label indices: [  1   2   3   4   5   6   7   8   9  10  11  12  13  14  15  16  17  18\n",
              "  19  20  21  22  23  24  25  26  27  28  29  30  31  32  33  34  35  36\n",
              "  37  38  39  40  41  42  43  44  45  46  47  48  49  50  51  52  53  54\n",
              "  55  56  57  58  59  60  61  62  63  64  65  66  67  68  69  70  71  72\n",
              "  73  74  75  76  77  78  79  80  81  82  83  84  85  86  87  88  89  90\n",
              "  91  92  93  94  95  96  97  98  99 100 101 102 103 104 105 106 107 108\n",
              " 109 110 111 112 113 114 115 116 117 118 119 120 121 122 123 124 125 126\n",
              " 127 128 129 130 131 132 133 134 135 136 137 138 139 140 141 142 143 144\n",
              " 145 146 147 148 149 150 151 152 153 154 155 156 157 158 159 160 161 162\n",
              " 163 164 165 166 167 168 169 170 171 172 173 174 175 176 177 178 179 180\n",
              " 181 182 183 184 185 186 187 188 189 190 191 192 193 194 195 196 197 198\n",
              " 199 200]\n",
              "Label column name(s): ['ID']"
            ]
          },
          "metadata": {},
          "execution_count": 26
        }
      ]
    },
    {
      "cell_type": "code",
      "source": [
        "history = compile_and_fit(GRU_model, wide_window)\n",
        "\n",
        "IPython.display.clear_output()\n",
        "val_performance['GRU'] = GRU_model.evaluate(wide_window.val)\n",
        "performance['GRU'] = GRU_model.evaluate(wide_window.test, verbose=0)"
      ],
      "metadata": {
        "id": "Zd6tP5oNyIFW",
        "outputId": "27cd21dc-ec51-44f1-9db9-ab15db88bbbc",
        "colab": {
          "base_uri": "https://localhost:8080/"
        }
      },
      "execution_count": 27,
      "outputs": [
        {
          "output_type": "stream",
          "name": "stdout",
          "text": [
            "6174/6174 [==============================] - 46s 7ms/step - loss: 73359.0234 - mean_absolute_error: 179.8698\n"
          ]
        }
      ]
    }
  ],
  "metadata": {
    "kernelspec": {
      "display_name": "Python 3.7.0 64-bit",
      "language": "python",
      "name": "python3"
    },
    "language_info": {
      "codemirror_mode": {
        "name": "ipython",
        "version": 3
      },
      "file_extension": ".py",
      "mimetype": "text/x-python",
      "name": "python",
      "nbconvert_exporter": "python",
      "pygments_lexer": "ipython3",
      "version": "3.7.0"
    },
    "orig_nbformat": 4,
    "vscode": {
      "interpreter": {
        "hash": "e774977668b7c0ae8309835a5187aa7fbf7669e7d0bb59755bc63e573643edcd"
      }
    },
    "colab": {
      "provenance": []
    },
    "accelerator": "GPU",
    "gpuClass": "premium"
  },
  "nbformat": 4,
  "nbformat_minor": 0
}