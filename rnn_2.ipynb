{
  "cells": [
    {
      "cell_type": "code",
      "execution_count": 4,
      "metadata": {
        "colab": {
          "base_uri": "https://localhost:8080/"
        },
        "id": "S8kohTkH4yy2",
        "outputId": "8a736b8b-6ef8-4c82-fc2a-4106fe8df179"
      },
      "outputs": [
        {
          "output_type": "stream",
          "name": "stdout",
          "text": [
            "Drive already mounted at /content/drive; to attempt to forcibly remount, call drive.mount(\"/content/drive\", force_remount=True).\n"
          ]
        }
      ],
      "source": [
        "from google.colab import drive\n",
        "drive.mount('/content/drive')"
      ]
    },
    {
      "cell_type": "code",
      "execution_count": 3,
      "metadata": {
        "id": "l2R8dhfkvixs"
      },
      "outputs": [],
      "source": [
        "import numpy as np\n",
        "import matplotlib.pyplot as plt\n",
        "import pandas as pd\n",
        "from tensorflow import keras\n",
        "from sklearn.preprocessing import StandardScaler\n",
        "import tensorflow as tf\n",
        "\n",
        "import plotly.graph_objects as go\n",
        "\n",
        "np.random.seed(1)\n",
        "tf.random.set_seed(1)\n",
        "\n",
        "from tensorflow.keras.models import Sequential\n",
        "from tensorflow.keras.layers import Dense, LSTM, Dropout, RepeatVector, TimeDistributed"
      ]
    },
    {
      "cell_type": "code",
      "execution_count": 5,
      "metadata": {
        "id": "a3cGF8csvixt",
        "outputId": "eecb27f2-c78d-4cc6-e2e1-54686c6e23e6",
        "colab": {
          "base_uri": "https://localhost:8080/",
          "height": 204
        }
      },
      "outputs": [
        {
          "output_type": "execute_result",
          "data": {
            "text/plain": [
              "      Timestamp    ID label\n",
              "0  1.478198e+09  018f     R\n",
              "1  1.478198e+09  0260     R\n",
              "2  1.478198e+09  02a0     R\n",
              "3  1.478198e+09  0329     R\n",
              "4  1.478198e+09  0545     R"
            ],
            "text/html": [
              "\n",
              "  <div id=\"df-462cd004-fdcb-4099-a012-7bfaaead292d\">\n",
              "    <div class=\"colab-df-container\">\n",
              "      <div>\n",
              "<style scoped>\n",
              "    .dataframe tbody tr th:only-of-type {\n",
              "        vertical-align: middle;\n",
              "    }\n",
              "\n",
              "    .dataframe tbody tr th {\n",
              "        vertical-align: top;\n",
              "    }\n",
              "\n",
              "    .dataframe thead th {\n",
              "        text-align: right;\n",
              "    }\n",
              "</style>\n",
              "<table border=\"1\" class=\"dataframe\">\n",
              "  <thead>\n",
              "    <tr style=\"text-align: right;\">\n",
              "      <th></th>\n",
              "      <th>Timestamp</th>\n",
              "      <th>ID</th>\n",
              "      <th>label</th>\n",
              "    </tr>\n",
              "  </thead>\n",
              "  <tbody>\n",
              "    <tr>\n",
              "      <th>0</th>\n",
              "      <td>1.478198e+09</td>\n",
              "      <td>018f</td>\n",
              "      <td>R</td>\n",
              "    </tr>\n",
              "    <tr>\n",
              "      <th>1</th>\n",
              "      <td>1.478198e+09</td>\n",
              "      <td>0260</td>\n",
              "      <td>R</td>\n",
              "    </tr>\n",
              "    <tr>\n",
              "      <th>2</th>\n",
              "      <td>1.478198e+09</td>\n",
              "      <td>02a0</td>\n",
              "      <td>R</td>\n",
              "    </tr>\n",
              "    <tr>\n",
              "      <th>3</th>\n",
              "      <td>1.478198e+09</td>\n",
              "      <td>0329</td>\n",
              "      <td>R</td>\n",
              "    </tr>\n",
              "    <tr>\n",
              "      <th>4</th>\n",
              "      <td>1.478198e+09</td>\n",
              "      <td>0545</td>\n",
              "      <td>R</td>\n",
              "    </tr>\n",
              "  </tbody>\n",
              "</table>\n",
              "</div>\n",
              "      <button class=\"colab-df-convert\" onclick=\"convertToInteractive('df-462cd004-fdcb-4099-a012-7bfaaead292d')\"\n",
              "              title=\"Convert this dataframe to an interactive table.\"\n",
              "              style=\"display:none;\">\n",
              "        \n",
              "  <svg xmlns=\"http://www.w3.org/2000/svg\" height=\"24px\"viewBox=\"0 0 24 24\"\n",
              "       width=\"24px\">\n",
              "    <path d=\"M0 0h24v24H0V0z\" fill=\"none\"/>\n",
              "    <path d=\"M18.56 5.44l.94 2.06.94-2.06 2.06-.94-2.06-.94-.94-2.06-.94 2.06-2.06.94zm-11 1L8.5 8.5l.94-2.06 2.06-.94-2.06-.94L8.5 2.5l-.94 2.06-2.06.94zm10 10l.94 2.06.94-2.06 2.06-.94-2.06-.94-.94-2.06-.94 2.06-2.06.94z\"/><path d=\"M17.41 7.96l-1.37-1.37c-.4-.4-.92-.59-1.43-.59-.52 0-1.04.2-1.43.59L10.3 9.45l-7.72 7.72c-.78.78-.78 2.05 0 2.83L4 21.41c.39.39.9.59 1.41.59.51 0 1.02-.2 1.41-.59l7.78-7.78 2.81-2.81c.8-.78.8-2.07 0-2.86zM5.41 20L4 18.59l7.72-7.72 1.47 1.35L5.41 20z\"/>\n",
              "  </svg>\n",
              "      </button>\n",
              "      \n",
              "  <style>\n",
              "    .colab-df-container {\n",
              "      display:flex;\n",
              "      flex-wrap:wrap;\n",
              "      gap: 12px;\n",
              "    }\n",
              "\n",
              "    .colab-df-convert {\n",
              "      background-color: #E8F0FE;\n",
              "      border: none;\n",
              "      border-radius: 50%;\n",
              "      cursor: pointer;\n",
              "      display: none;\n",
              "      fill: #1967D2;\n",
              "      height: 32px;\n",
              "      padding: 0 0 0 0;\n",
              "      width: 32px;\n",
              "    }\n",
              "\n",
              "    .colab-df-convert:hover {\n",
              "      background-color: #E2EBFA;\n",
              "      box-shadow: 0px 1px 2px rgba(60, 64, 67, 0.3), 0px 1px 3px 1px rgba(60, 64, 67, 0.15);\n",
              "      fill: #174EA6;\n",
              "    }\n",
              "\n",
              "    [theme=dark] .colab-df-convert {\n",
              "      background-color: #3B4455;\n",
              "      fill: #D2E3FC;\n",
              "    }\n",
              "\n",
              "    [theme=dark] .colab-df-convert:hover {\n",
              "      background-color: #434B5C;\n",
              "      box-shadow: 0px 1px 3px 1px rgba(0, 0, 0, 0.15);\n",
              "      filter: drop-shadow(0px 1px 2px rgba(0, 0, 0, 0.3));\n",
              "      fill: #FFFFFF;\n",
              "    }\n",
              "  </style>\n",
              "\n",
              "      <script>\n",
              "        const buttonEl =\n",
              "          document.querySelector('#df-462cd004-fdcb-4099-a012-7bfaaead292d button.colab-df-convert');\n",
              "        buttonEl.style.display =\n",
              "          google.colab.kernel.accessAllowed ? 'block' : 'none';\n",
              "\n",
              "        async function convertToInteractive(key) {\n",
              "          const element = document.querySelector('#df-462cd004-fdcb-4099-a012-7bfaaead292d');\n",
              "          const dataTable =\n",
              "            await google.colab.kernel.invokeFunction('convertToInteractive',\n",
              "                                                     [key], {});\n",
              "          if (!dataTable) return;\n",
              "\n",
              "          const docLinkHtml = 'Like what you see? Visit the ' +\n",
              "            '<a target=\"_blank\" href=https://colab.research.google.com/notebooks/data_table.ipynb>data table notebook</a>'\n",
              "            + ' to learn more about interactive tables.';\n",
              "          element.innerHTML = '';\n",
              "          dataTable['output_type'] = 'display_data';\n",
              "          await google.colab.output.renderOutput(dataTable, element);\n",
              "          const docLink = document.createElement('div');\n",
              "          docLink.innerHTML = docLinkHtml;\n",
              "          element.appendChild(docLink);\n",
              "        }\n",
              "      </script>\n",
              "    </div>\n",
              "  </div>\n",
              "  "
            ]
          },
          "metadata": {},
          "execution_count": 5
        }
      ],
      "source": [
        "normal_df=pd.read_csv('/content/drive/MyDrive/CANIDS/Data/normal_run_data.csv')\n",
        "normal_df['label']='R'\n",
        "normal_df=normal_df.drop(columns=['DLC', 'D1', 'D2', 'D3', 'D4', 'D5', 'D6', 'D7', 'D8'])\n",
        "\n",
        "DoS_df=pd.read_csv('/content/drive/MyDrive/CANIDS/Data/DoS_dataset.csv')\n",
        "DoS_df=pd.concat([DoS_df.iloc[:,0:2],DoS_df.iloc[:,-1]],axis=1)\n",
        "DoS_df.columns=['Timestamp','ID','label']\n",
        "DoS_df.head()"
      ]
    },
    {
      "cell_type": "code",
      "execution_count": 6,
      "metadata": {
        "id": "h_W5zrAlvixu"
      },
      "outputs": [],
      "source": [
        "def h2i(s):\n",
        "    return int(s,16)\n",
        "\n",
        "def d2t(s):\n",
        "  return pd.Timestamp(s,unit=\"s\")\n",
        "\n",
        "def s2i(s):\n",
        "    if s=='R':\n",
        "      return 0\n",
        "    else:\n",
        "      return 1"
      ]
    },
    {
      "cell_type": "code",
      "execution_count": 7,
      "metadata": {
        "id": "Gb-21hB5oWK4"
      },
      "outputs": [],
      "source": [
        "normal_df['ID']=normal_df['ID'].apply(h2i)\n",
        "DoS_df['ID']=DoS_df['ID'].apply(h2i)\n",
        "normal_df['Timestamp']=normal_df['Timestamp'].apply(d2t)\n",
        "DoS_df['Timestamp']=DoS_df['Timestamp'].apply(d2t)"
      ]
    },
    {
      "cell_type": "code",
      "execution_count": 8,
      "metadata": {
        "id": "u2OCydKoygeD",
        "outputId": "6f99d8b9-b2d3-40ca-f29e-f6abd675d4b3",
        "colab": {
          "base_uri": "https://localhost:8080/",
          "height": 204
        }
      },
      "outputs": [
        {
          "output_type": "execute_result",
          "data": {
            "text/plain": [
              "                      Timestamp    ID label\n",
              "0 2016-11-14 11:03:54.850202084   848     R\n",
              "1 2016-11-14 11:03:54.850423098   704     R\n",
              "2 2016-11-14 11:03:54.850976944  1072     R\n",
              "3 2016-11-14 11:03:54.851214886  1201     R\n",
              "4 2016-11-14 11:03:54.851463079   497     R"
            ],
            "text/html": [
              "\n",
              "  <div id=\"df-39ef6fde-4fbb-4670-91a8-cf75b4190a70\">\n",
              "    <div class=\"colab-df-container\">\n",
              "      <div>\n",
              "<style scoped>\n",
              "    .dataframe tbody tr th:only-of-type {\n",
              "        vertical-align: middle;\n",
              "    }\n",
              "\n",
              "    .dataframe tbody tr th {\n",
              "        vertical-align: top;\n",
              "    }\n",
              "\n",
              "    .dataframe thead th {\n",
              "        text-align: right;\n",
              "    }\n",
              "</style>\n",
              "<table border=\"1\" class=\"dataframe\">\n",
              "  <thead>\n",
              "    <tr style=\"text-align: right;\">\n",
              "      <th></th>\n",
              "      <th>Timestamp</th>\n",
              "      <th>ID</th>\n",
              "      <th>label</th>\n",
              "    </tr>\n",
              "  </thead>\n",
              "  <tbody>\n",
              "    <tr>\n",
              "      <th>0</th>\n",
              "      <td>2016-11-14 11:03:54.850202084</td>\n",
              "      <td>848</td>\n",
              "      <td>R</td>\n",
              "    </tr>\n",
              "    <tr>\n",
              "      <th>1</th>\n",
              "      <td>2016-11-14 11:03:54.850423098</td>\n",
              "      <td>704</td>\n",
              "      <td>R</td>\n",
              "    </tr>\n",
              "    <tr>\n",
              "      <th>2</th>\n",
              "      <td>2016-11-14 11:03:54.850976944</td>\n",
              "      <td>1072</td>\n",
              "      <td>R</td>\n",
              "    </tr>\n",
              "    <tr>\n",
              "      <th>3</th>\n",
              "      <td>2016-11-14 11:03:54.851214886</td>\n",
              "      <td>1201</td>\n",
              "      <td>R</td>\n",
              "    </tr>\n",
              "    <tr>\n",
              "      <th>4</th>\n",
              "      <td>2016-11-14 11:03:54.851463079</td>\n",
              "      <td>497</td>\n",
              "      <td>R</td>\n",
              "    </tr>\n",
              "  </tbody>\n",
              "</table>\n",
              "</div>\n",
              "      <button class=\"colab-df-convert\" onclick=\"convertToInteractive('df-39ef6fde-4fbb-4670-91a8-cf75b4190a70')\"\n",
              "              title=\"Convert this dataframe to an interactive table.\"\n",
              "              style=\"display:none;\">\n",
              "        \n",
              "  <svg xmlns=\"http://www.w3.org/2000/svg\" height=\"24px\"viewBox=\"0 0 24 24\"\n",
              "       width=\"24px\">\n",
              "    <path d=\"M0 0h24v24H0V0z\" fill=\"none\"/>\n",
              "    <path d=\"M18.56 5.44l.94 2.06.94-2.06 2.06-.94-2.06-.94-.94-2.06-.94 2.06-2.06.94zm-11 1L8.5 8.5l.94-2.06 2.06-.94-2.06-.94L8.5 2.5l-.94 2.06-2.06.94zm10 10l.94 2.06.94-2.06 2.06-.94-2.06-.94-.94-2.06-.94 2.06-2.06.94z\"/><path d=\"M17.41 7.96l-1.37-1.37c-.4-.4-.92-.59-1.43-.59-.52 0-1.04.2-1.43.59L10.3 9.45l-7.72 7.72c-.78.78-.78 2.05 0 2.83L4 21.41c.39.39.9.59 1.41.59.51 0 1.02-.2 1.41-.59l7.78-7.78 2.81-2.81c.8-.78.8-2.07 0-2.86zM5.41 20L4 18.59l7.72-7.72 1.47 1.35L5.41 20z\"/>\n",
              "  </svg>\n",
              "      </button>\n",
              "      \n",
              "  <style>\n",
              "    .colab-df-container {\n",
              "      display:flex;\n",
              "      flex-wrap:wrap;\n",
              "      gap: 12px;\n",
              "    }\n",
              "\n",
              "    .colab-df-convert {\n",
              "      background-color: #E8F0FE;\n",
              "      border: none;\n",
              "      border-radius: 50%;\n",
              "      cursor: pointer;\n",
              "      display: none;\n",
              "      fill: #1967D2;\n",
              "      height: 32px;\n",
              "      padding: 0 0 0 0;\n",
              "      width: 32px;\n",
              "    }\n",
              "\n",
              "    .colab-df-convert:hover {\n",
              "      background-color: #E2EBFA;\n",
              "      box-shadow: 0px 1px 2px rgba(60, 64, 67, 0.3), 0px 1px 3px 1px rgba(60, 64, 67, 0.15);\n",
              "      fill: #174EA6;\n",
              "    }\n",
              "\n",
              "    [theme=dark] .colab-df-convert {\n",
              "      background-color: #3B4455;\n",
              "      fill: #D2E3FC;\n",
              "    }\n",
              "\n",
              "    [theme=dark] .colab-df-convert:hover {\n",
              "      background-color: #434B5C;\n",
              "      box-shadow: 0px 1px 3px 1px rgba(0, 0, 0, 0.15);\n",
              "      filter: drop-shadow(0px 1px 2px rgba(0, 0, 0, 0.3));\n",
              "      fill: #FFFFFF;\n",
              "    }\n",
              "  </style>\n",
              "\n",
              "      <script>\n",
              "        const buttonEl =\n",
              "          document.querySelector('#df-39ef6fde-4fbb-4670-91a8-cf75b4190a70 button.colab-df-convert');\n",
              "        buttonEl.style.display =\n",
              "          google.colab.kernel.accessAllowed ? 'block' : 'none';\n",
              "\n",
              "        async function convertToInteractive(key) {\n",
              "          const element = document.querySelector('#df-39ef6fde-4fbb-4670-91a8-cf75b4190a70');\n",
              "          const dataTable =\n",
              "            await google.colab.kernel.invokeFunction('convertToInteractive',\n",
              "                                                     [key], {});\n",
              "          if (!dataTable) return;\n",
              "\n",
              "          const docLinkHtml = 'Like what you see? Visit the ' +\n",
              "            '<a target=\"_blank\" href=https://colab.research.google.com/notebooks/data_table.ipynb>data table notebook</a>'\n",
              "            + ' to learn more about interactive tables.';\n",
              "          element.innerHTML = '';\n",
              "          dataTable['output_type'] = 'display_data';\n",
              "          await google.colab.output.renderOutput(dataTable, element);\n",
              "          const docLink = document.createElement('div');\n",
              "          docLink.innerHTML = docLinkHtml;\n",
              "          element.appendChild(docLink);\n",
              "        }\n",
              "      </script>\n",
              "    </div>\n",
              "  </div>\n",
              "  "
            ]
          },
          "metadata": {},
          "execution_count": 8
        }
      ],
      "source": [
        "normal_df.head()"
      ]
    },
    {
      "cell_type": "code",
      "execution_count": 9,
      "metadata": {
        "colab": {
          "base_uri": "https://localhost:8080/"
        },
        "id": "w5aVDnOr0Pmz",
        "outputId": "f6c5eaa2-7036-4c66-8665-18c956d7f843"
      },
      "outputs": [
        {
          "output_type": "execute_result",
          "data": {
            "text/plain": [
              "(988742, 3)"
            ]
          },
          "metadata": {},
          "execution_count": 9
        }
      ],
      "source": [
        "normal_df.shape"
      ]
    },
    {
      "cell_type": "code",
      "execution_count": 10,
      "metadata": {
        "colab": {
          "base_uri": "https://localhost:8080/",
          "height": 281
        },
        "id": "YNWt1Zaj0En5",
        "outputId": "dbb5dc98-150a-404f-99a6-5e1d9da80fb7"
      },
      "outputs": [
        {
          "output_type": "display_data",
          "data": {
            "text/plain": [
              "<Figure size 432x288 with 1 Axes>"
            ],
            "image/png": "[encoded data removed]"
          },
          "metadata": {
            "needs_background": "light"
          }
        }
      ],
      "source": [
        "plot_features = normal_df['ID'][0:200000]\n",
        "plot_features.index = normal_df['Timestamp'][0:200000]\n",
        "_ = plot_features.plot(subplots=True)"
      ]
    },
    {
      "cell_type": "code",
      "execution_count": 11,
      "metadata": {
        "id": "T2pR_oKUygeD"
      },
      "outputs": [],
      "source": [
        "normal_df.shape,DoS_df.shape\n",
        "train=normal_df\n",
        "test=DoS_df"
      ]
    },
    {
      "cell_type": "markdown",
      "source": [
        "# Time step 20"
      ],
      "metadata": {
        "id": "cRZTlRcD5Osb"
      }
    },
    {
      "cell_type": "code",
      "execution_count": 37,
      "metadata": {
        "id": "lIvk38QeygeE"
      },
      "outputs": [],
      "source": [
        "TIME_STEPS=20\n",
        "\n",
        "def create_sequences(X, y, time_steps=TIME_STEPS):\n",
        "    Xs, ys = [], []\n",
        "    for i in range(len(X)-time_steps):\n",
        "\n",
        "        Xs.append(X.iloc[i:(i+time_steps)].values)\n",
        "        ys.append(y.iloc[i+time_steps])\n",
        "    \n",
        "    return np.array(Xs), np.array(ys)"
      ]
    },
    {
      "cell_type": "code",
      "source": [
        "X_train, y_train = create_sequences(train[['ID']][:200000], train['ID'][:200000])\n",
        "print(f'Training shape: {X_train.shape}')"
      ],
      "metadata": {
        "id": "EDB5i0pQ4EqT",
        "outputId": "8197faf6-0767-477f-8d31-a2b462551ead",
        "colab": {
          "base_uri": "https://localhost:8080/"
        }
      },
      "execution_count": 38,
      "outputs": [
        {
          "output_type": "stream",
          "name": "stdout",
          "text": [
            "Training shape: (199980, 20, 1)\n"
          ]
        }
      ]
    },
    {
      "cell_type": "code",
      "source": [
        "X_test, y_test = create_sequences(test[['ID']], test['ID'])\n",
        "print(f'Testing shape: {X_test.shape}')"
      ],
      "metadata": {
        "id": "GBt9HOwZ3_Wo",
        "outputId": "feae3c26-4327-430f-ef18-39d0fc7aac49",
        "colab": {
          "base_uri": "https://localhost:8080/"
        }
      },
      "execution_count": 39,
      "outputs": [
        {
          "output_type": "stream",
          "name": "stdout",
          "text": [
            "Testing shape: (3665750, 20, 1)\n"
          ]
        }
      ]
    },
    {
      "cell_type": "code",
      "execution_count": 40,
      "metadata": {
        "id": "PMG8vFjEygeE",
        "outputId": "74731266-36a6-4ea6-b00c-efbd5f293372",
        "colab": {
          "base_uri": "https://localhost:8080/"
        }
      },
      "outputs": [
        {
          "output_type": "stream",
          "name": "stdout",
          "text": [
            "Model: \"sequential_3\"\n",
            "_________________________________________________________________\n",
            " Layer (type)                Output Shape              Param #   \n",
            "=================================================================\n",
            " lstm_6 (LSTM)               (None, 128)               66560     \n",
            "                                                                 \n",
            " dropout_6 (Dropout)         (None, 128)               0         \n",
            "                                                                 \n",
            " repeat_vector_3 (RepeatVect  (None, 20, 128)          0         \n",
            " or)                                                             \n",
            "                                                                 \n",
            " lstm_7 (LSTM)               (None, 20, 128)           131584    \n",
            "                                                                 \n",
            " dropout_7 (Dropout)         (None, 20, 128)           0         \n",
            "                                                                 \n",
            " time_distributed_3 (TimeDis  (None, 20, 1)            129       \n",
            " tributed)                                                       \n",
            "                                                                 \n",
            "=================================================================\n",
            "Total params: 198,273\n",
            "Trainable params: 198,273\n",
            "Non-trainable params: 0\n",
            "_________________________________________________________________\n"
          ]
        }
      ],
      "source": [
        "model = Sequential()\n",
        "model.add(LSTM(128, input_shape=(X_train.shape[1], X_train.shape[2])))\n",
        "model.add(Dropout(rate=0.2))\n",
        "model.add(RepeatVector(X_train.shape[1]))\n",
        "model.add(LSTM(128, return_sequences=True))\n",
        "model.add(Dropout(rate=0.2))\n",
        "model.add(TimeDistributed(Dense(X_train.shape[2])))\n",
        "model.compile(optimizer='adam', loss='mae')\n",
        "model.summary()"
      ]
    },
    {
      "cell_type": "code",
      "execution_count": 41,
      "metadata": {
        "id": "-GjTaP3iygeG",
        "outputId": "847ff337-de94-4aed-9638-ecb594bcdab2",
        "colab": {
          "base_uri": "https://localhost:8080/"
        }
      },
      "outputs": [
        {
          "output_type": "stream",
          "name": "stdout",
          "text": [
            "Epoch 1/100\n",
            "5625/5625 [==============================] - 42s 7ms/step - loss: 447.6454 - val_loss: 317.4622\n",
            "Epoch 2/100\n",
            "5625/5625 [==============================] - 38s 7ms/step - loss: 303.5652 - val_loss: 300.4792\n",
            "Epoch 3/100\n",
            "5625/5625 [==============================] - 38s 7ms/step - loss: 302.1971 - val_loss: 300.4815\n",
            "Epoch 4/100\n",
            "5625/5625 [==============================] - 38s 7ms/step - loss: 302.1884 - val_loss: 300.4817\n",
            "Epoch 5/100\n",
            "5625/5625 [==============================] - 38s 7ms/step - loss: 302.1526 - val_loss: 300.3956\n",
            "Epoch 6/100\n",
            "5625/5625 [==============================] - 38s 7ms/step - loss: 302.0852 - val_loss: 300.3359\n",
            "Epoch 7/100\n",
            "5625/5625 [==============================] - 38s 7ms/step - loss: 302.0226 - val_loss: 300.2932\n",
            "Epoch 8/100\n",
            "5625/5625 [==============================] - 38s 7ms/step - loss: 301.9650 - val_loss: 300.2198\n",
            "Epoch 9/100\n",
            "5625/5625 [==============================] - 38s 7ms/step - loss: 301.9016 - val_loss: 300.1612\n",
            "Epoch 10/100\n",
            "5625/5625 [==============================] - 38s 7ms/step - loss: 301.8425 - val_loss: 300.1038\n",
            "Epoch 11/100\n",
            "5625/5625 [==============================] - 38s 7ms/step - loss: 301.7874 - val_loss: 300.0453\n",
            "Epoch 12/100\n",
            "5625/5625 [==============================] - 38s 7ms/step - loss: 301.7296 - val_loss: 299.9825\n",
            "Epoch 13/100\n",
            "5625/5625 [==============================] - 38s 7ms/step - loss: 301.6687 - val_loss: 299.9286\n",
            "Epoch 14/100\n",
            "5625/5625 [==============================] - 38s 7ms/step - loss: 301.5070 - val_loss: 299.4842\n",
            "Epoch 15/100\n",
            "5625/5625 [==============================] - 38s 7ms/step - loss: 301.3088 - val_loss: 299.2701\n",
            "Epoch 16/100\n",
            "5625/5625 [==============================] - 38s 7ms/step - loss: 301.1315 - val_loss: 299.0855\n",
            "Epoch 17/100\n",
            "5625/5625 [==============================] - 38s 7ms/step - loss: 300.8727 - val_loss: 298.8105\n",
            "Epoch 18/100\n",
            "5625/5625 [==============================] - 38s 7ms/step - loss: 300.6369 - val_loss: 298.5650\n",
            "Epoch 19/100\n",
            "5625/5625 [==============================] - 38s 7ms/step - loss: 300.5447 - val_loss: 298.5227\n",
            "Epoch 20/100\n",
            "5625/5625 [==============================] - 38s 7ms/step - loss: 300.5198 - val_loss: 298.5132\n",
            "Epoch 21/100\n",
            "5625/5625 [==============================] - 38s 7ms/step - loss: 300.5108 - val_loss: 298.5012\n",
            "Epoch 22/100\n",
            "5625/5625 [==============================] - 38s 7ms/step - loss: 300.5031 - val_loss: 298.4842\n",
            "Epoch 23/100\n",
            "5625/5625 [==============================] - 38s 7ms/step - loss: 300.4905 - val_loss: 298.4143\n",
            "Epoch 24/100\n",
            "5625/5625 [==============================] - 38s 7ms/step - loss: 300.4824 - val_loss: 298.4313\n",
            "Epoch 25/100\n",
            "5625/5625 [==============================] - 38s 7ms/step - loss: 300.4764 - val_loss: 298.5035\n",
            "Epoch 26/100\n",
            "5625/5625 [==============================] - 38s 7ms/step - loss: 300.4712 - val_loss: 298.4202\n"
          ]
        }
      ],
      "source": [
        "history = model.fit(X_train, y_train, epochs=100, batch_size=32, validation_split=0.1,\n",
        "                    callbacks=[keras.callbacks.EarlyStopping(monitor='val_loss', patience=3, mode='min')], shuffle=False)"
      ]
    },
    {
      "cell_type": "code",
      "source": [
        "plt.plot(history.history['loss'], label='Training loss')\n",
        "plt.plot(history.history['val_loss'], label='Validation loss')\n",
        "plt.legend();"
      ],
      "metadata": {
        "id": "uaKowRO78CNc",
        "outputId": "16c5965b-9b62-4b0a-fda0-b6b04263be17",
        "colab": {
          "base_uri": "https://localhost:8080/",
          "height": 265
        }
      },
      "execution_count": 42,
      "outputs": [
        {
          "output_type": "display_data",
          "data": {
            "text/plain": [
              "<Figure size 432x288 with 1 Axes>"
            ],
            "image/png": "[encoded data removed]"
          },
          "metadata": {
            "needs_background": "light"
          }
        }
      ]
    },
    {
      "cell_type": "code",
      "source": [
        "model.evaluate(X_test, y_test)"
      ],
      "metadata": {
        "id": "8AnWIX_t_EZf",
        "outputId": "0a99e017-2745-49d5-f549-c226bfb43e51",
        "colab": {
          "base_uri": "https://localhost:8080/"
        }
      },
      "execution_count": 43,
      "outputs": [
        {
          "output_type": "stream",
          "name": "stdout",
          "text": [
            "114555/114555 [==============================] - 364s 3ms/step - loss: 372.5155\n"
          ]
        },
        {
          "output_type": "execute_result",
          "data": {
            "text/plain": [
              "372.5154724121094"
            ]
          },
          "metadata": {},
          "execution_count": 43
        }
      ]
    },
    {
      "cell_type": "code",
      "source": [
        "X_train_pred = model.predict(X_train, verbose=0)\n",
        "train_mae_loss = np.mean(np.abs(X_train_pred - X_train), axis=1)\n",
        "\n",
        "plt.hist(train_mae_loss, bins=50)\n",
        "plt.xlabel('Train MAE loss')\n",
        "plt.ylabel('Number of Samples');\n",
        "\n",
        "threshold = np.max(train_mae_loss)\n",
        "print(f'Reconstruction error threshold: {threshold}')"
      ],
      "metadata": {
        "id": "di7gCtFy_I0Z",
        "outputId": "7a0389f1-79f0-4f0c-aec7-89d8fb1a20a9",
        "colab": {
          "base_uri": "https://localhost:8080/",
          "height": 298
        }
      },
      "execution_count": 44,
      "outputs": [
        {
          "output_type": "stream",
          "name": "stdout",
          "text": [
            "Reconstruction error threshold: 431.1930633544922\n"
          ]
        },
        {
          "output_type": "display_data",
          "data": {
            "text/plain": [
              "<Figure size 432x288 with 1 Axes>"
            ],
            "image/png": "[encoded data removed]"
          },
          "metadata": {
            "needs_background": "light"
          }
        }
      ]
    },
    {
      "cell_type": "code",
      "source": [
        "X_test_pred = model.predict(X_test, verbose=0)\n",
        "test_mae_loss = np.mean(np.abs(X_test_pred-X_test), axis=1)\n",
        "\n",
        "plt.hist(test_mae_loss, bins=50)\n",
        "plt.xlabel('Test MAE loss')\n",
        "plt.ylabel('Number of samples');"
      ],
      "metadata": {
        "id": "2V_I2rdAB_Uv",
        "outputId": "1a32823f-57b0-4d40-97c9-c1a3ebd13bb5",
        "colab": {
          "base_uri": "https://localhost:8080/",
          "height": 279
        }
      },
      "execution_count": 45,
      "outputs": [
        {
          "output_type": "display_data",
          "data": {
            "text/plain": [
              "<Figure size 432x288 with 1 Axes>"
            ],
            "image/png": "[encoded data removed]"
          },
          "metadata": {
            "needs_background": "light"
          }
        }
      ]
    },
    {
      "cell_type": "code",
      "source": [
        "test_score_df = pd.DataFrame(test[TIME_STEPS:])\n",
        "test_score_df['loss'] = test_mae_loss\n",
        "test_score_df['threshold'] = threshold\n",
        "test_score_df['anomaly'] = test_score_df['loss'] > test_score_df['threshold']\n",
        "test_score_df['ID'] = test[TIME_STEPS:]['ID']\n",
        "\n",
        "fig = go.Figure()\n",
        "fig.add_trace(go.Scatter(x=test_score_df['Timestamp'], y=test_score_df['loss'], name='Test loss'))\n",
        "fig.add_trace(go.Scatter(x=test_score_df['Timestamp'], y=test_score_df['threshold'], name='Threshold'))\n",
        "fig.update_layout(showlegend=True, title='Test loss vs. Threshold')\n",
        "fig.show()"
      ],
      "metadata": {
        "id": "g60Vp64DDTge"
      },
      "execution_count": 50,
      "outputs": []
    },
    {
      "cell_type": "code",
      "source": [
        "anomalies = test_score_df.loc[test_score_df['anomaly'] == True]\n",
        "anomalies.shape"
      ],
      "metadata": {
        "id": "v0IQk7NpD_jh",
        "outputId": "52297f4c-6e04-4113-812a-91cdc556c0e5",
        "colab": {
          "base_uri": "https://localhost:8080/"
        }
      },
      "execution_count": 47,
      "outputs": [
        {
          "output_type": "execute_result",
          "data": {
            "text/plain": [
              "(1047069, 6)"
            ]
          },
          "metadata": {},
          "execution_count": 47
        }
      ]
    },
    {
      "cell_type": "markdown",
      "source": [
        "## True Positive & True Negative"
      ],
      "metadata": {
        "id": "ESn-f6uGGwz9"
      }
    },
    {
      "cell_type": "code",
      "source": [
        "TP=len(test_score_df.loc[(test_score_df['label']=='T') & test_score_df['anomaly']])"
      ],
      "metadata": {
        "id": "VrWdZqgVGqWU"
      },
      "execution_count": 60,
      "outputs": []
    },
    {
      "cell_type": "code",
      "source": [
        "TN=len(test_score_df.loc[(test_score_df['label']=='R') & ~test_score_df['anomaly']])"
      ],
      "metadata": {
        "id": "-b2WAaT6EPMN"
      },
      "execution_count": 61,
      "outputs": []
    },
    {
      "cell_type": "markdown",
      "source": [
        "## False Positive & False Negative"
      ],
      "metadata": {
        "id": "E_lLp4DJG8OZ"
      }
    },
    {
      "cell_type": "code",
      "source": [
        "FP=len(test_score_df.loc[(test_score_df['label']=='R') & test_score_df['anomaly']])"
      ],
      "metadata": {
        "id": "ppYkzAe5GuMs"
      },
      "execution_count": 62,
      "outputs": []
    },
    {
      "cell_type": "code",
      "source": [
        "FN=len(test_score_df.loc[(test_score_df['label']=='T') & ~test_score_df['anomaly']])"
      ],
      "metadata": {
        "id": "8eGDOTT2G_ia"
      },
      "execution_count": 63,
      "outputs": []
    },
    {
      "cell_type": "markdown",
      "source": [
        "## Result\n"
      ],
      "metadata": {
        "id": "jfmqmRXPH9RA"
      }
    },
    {
      "cell_type": "markdown",
      "source": [
        "### Accuracy"
      ],
      "metadata": {
        "id": "qs0DjoqZIPGL"
      }
    },
    {
      "cell_type": "code",
      "source": [
        "(TP+TN)/(FP+FN+TP+TN)"
      ],
      "metadata": {
        "id": "cT-UOHpkIDgJ",
        "outputId": "f9c9570e-91a5-4a96-eedc-2ced485d096a",
        "colab": {
          "base_uri": "https://localhost:8080/"
        }
      },
      "execution_count": 65,
      "outputs": [
        {
          "output_type": "execute_result",
          "data": {
            "text/plain": [
              "0.8632773357560003"
            ]
          },
          "metadata": {},
          "execution_count": 65
        }
      ]
    },
    {
      "cell_type": "markdown",
      "source": [
        "Not Bad... but 0.86 is little bit high  \n",
        "Threshold is 431 in this case.  \n",
        "Try with time step 100. It would decrease variance in Train MAE loss.\n",
        "\n"
      ],
      "metadata": {
        "id": "d_iFt51DJk_o"
      }
    },
    {
      "cell_type": "markdown",
      "source": [
        "## time step 100"
      ],
      "metadata": {
        "id": "5wJ__PQU3wX8"
      }
    },
    {
      "cell_type": "code",
      "source": [
        "TIME_STEPS=100\n",
        "\n",
        "def create_sequences(X, y, time_steps=TIME_STEPS):\n",
        "    Xs, ys = [], []\n",
        "    for i in range(len(X)-time_steps):\n",
        "\n",
        "        Xs.append(X.iloc[i:(i+time_steps)].values)\n",
        "        ys.append(y.iloc[i+time_steps])\n",
        "    \n",
        "    return np.array(Xs), np.array(ys)"
      ],
      "metadata": {
        "id": "13axt9_c5UHE"
      },
      "execution_count": 67,
      "outputs": []
    },
    {
      "cell_type": "code",
      "source": [
        "X_train, y_train = create_sequences(train[['ID']][:200000], train['ID'][:200000])\n",
        "print(f'Training shape: {X_train.shape}')"
      ],
      "metadata": {
        "id": "O3UO7t3o5WJ1",
        "outputId": "79057066-5a84-4e7e-d725-5397f037ca58",
        "colab": {
          "base_uri": "https://localhost:8080/"
        }
      },
      "execution_count": 68,
      "outputs": [
        {
          "output_type": "stream",
          "name": "stdout",
          "text": [
            "Training shape: (199900, 100, 1)\n"
          ]
        }
      ]
    },
    {
      "cell_type": "code",
      "source": [
        "X_test, y_test = create_sequences(test[['ID']], test['ID'])\n",
        "print(f'Testing shape: {X_test.shape}')"
      ],
      "metadata": {
        "id": "QMLCHAaL5YeC",
        "outputId": "d7bacdae-d59e-4987-c19b-6d70c7968533",
        "colab": {
          "base_uri": "https://localhost:8080/"
        }
      },
      "execution_count": 69,
      "outputs": [
        {
          "output_type": "stream",
          "name": "stdout",
          "text": [
            "Testing shape: (3665670, 100, 1)\n"
          ]
        }
      ]
    },
    {
      "cell_type": "code",
      "source": [
        "model = Sequential()\n",
        "model.add(LSTM(128, input_shape=(X_train.shape[1], X_train.shape[2])))\n",
        "model.add(Dropout(rate=0.2))\n",
        "model.add(RepeatVector(X_train.shape[1]))\n",
        "model.add(LSTM(128, return_sequences=True))\n",
        "model.add(Dropout(rate=0.2))\n",
        "model.add(TimeDistributed(Dense(X_train.shape[2])))\n",
        "model.compile(optimizer='adam', loss='mae')\n",
        "model.summary()"
      ],
      "metadata": {
        "id": "WkQcEnK35bNf",
        "outputId": "dfd501d7-5d45-4a73-f73c-e961dc6b2a86",
        "colab": {
          "base_uri": "https://localhost:8080/"
        }
      },
      "execution_count": 70,
      "outputs": [
        {
          "output_type": "stream",
          "name": "stdout",
          "text": [
            "Model: \"sequential_4\"\n",
            "_________________________________________________________________\n",
            " Layer (type)                Output Shape              Param #   \n",
            "=================================================================\n",
            " lstm_8 (LSTM)               (None, 128)               66560     \n",
            "                                                                 \n",
            " dropout_8 (Dropout)         (None, 128)               0         \n",
            "                                                                 \n",
            " repeat_vector_4 (RepeatVect  (None, 100, 128)         0         \n",
            " or)                                                             \n",
            "                                                                 \n",
            " lstm_9 (LSTM)               (None, 100, 128)          131584    \n",
            "                                                                 \n",
            " dropout_9 (Dropout)         (None, 100, 128)          0         \n",
            "                                                                 \n",
            " time_distributed_4 (TimeDis  (None, 100, 1)           129       \n",
            " tributed)                                                       \n",
            "                                                                 \n",
            "=================================================================\n",
            "Total params: 198,273\n",
            "Trainable params: 198,273\n",
            "Non-trainable params: 0\n",
            "_________________________________________________________________\n"
          ]
        }
      ]
    },
    {
      "cell_type": "code",
      "source": [
        "history = model.fit(X_train, y_train, epochs=100, batch_size=32, validation_split=0.1,\n",
        "                    callbacks=[keras.callbacks.EarlyStopping(monitor='val_loss', patience=3, mode='min')], shuffle=False)"
      ],
      "metadata": {
        "id": "TC-HlAlu5cIX",
        "outputId": "483b7f24-ff4d-4e60-89cb-e2b7bc5a2dc8",
        "colab": {
          "base_uri": "https://localhost:8080/"
        }
      },
      "execution_count": 71,
      "outputs": [
        {
          "output_type": "stream",
          "name": "stdout",
          "text": [
            "Epoch 1/100\n",
            "5623/5623 [==============================] - 85s 15ms/step - loss: 446.6535 - val_loss: 316.2563\n",
            "Epoch 2/100\n",
            "5623/5623 [==============================] - 83s 15ms/step - loss: 302.1426 - val_loss: 298.6717\n",
            "Epoch 3/100\n",
            "5623/5623 [==============================] - 82s 15ms/step - loss: 300.7752 - val_loss: 298.6669\n",
            "Epoch 4/100\n",
            "5623/5623 [==============================] - 84s 15ms/step - loss: 300.7663 - val_loss: 298.6679\n",
            "Epoch 5/100\n",
            "5623/5623 [==============================] - 84s 15ms/step - loss: 300.7615 - val_loss: 298.6678\n",
            "Epoch 6/100\n",
            "5623/5623 [==============================] - 84s 15ms/step - loss: 300.7552 - val_loss: 298.6834\n"
          ]
        }
      ]
    },
    {
      "cell_type": "code",
      "source": [
        "plt.plot(history.history['loss'], label='Training loss')\n",
        "plt.plot(history.history['val_loss'], label='Validation loss')\n",
        "plt.legend();"
      ],
      "metadata": {
        "id": "k4BrL-LEKBa8",
        "outputId": "34c7c478-2d4f-4a78-991d-503f06b5d041",
        "colab": {
          "base_uri": "https://localhost:8080/",
          "height": 265
        }
      },
      "execution_count": 72,
      "outputs": [
        {
          "output_type": "display_data",
          "data": {
            "text/plain": [
              "<Figure size 432x288 with 1 Axes>"
            ],
            "image/png": "[encoded data removed]"
          },
          "metadata": {
            "needs_background": "light"
          }
        }
      ]
    },
    {
      "cell_type": "code",
      "source": [
        "model.evaluate(X_test, y_test)"
      ],
      "metadata": {
        "id": "E8j-JA4UKD5D",
        "outputId": "522bcf78-f6c3-4d2c-f5c6-94011882d060",
        "colab": {
          "base_uri": "https://localhost:8080/"
        }
      },
      "execution_count": 73,
      "outputs": [
        {
          "output_type": "stream",
          "name": "stdout",
          "text": [
            "114553/114553 [==============================] - 701s 6ms/step - loss: 375.4410\n"
          ]
        },
        {
          "output_type": "execute_result",
          "data": {
            "text/plain": [
              "375.4410095214844"
            ]
          },
          "metadata": {},
          "execution_count": 73
        }
      ]
    },
    {
      "cell_type": "code",
      "source": [
        "X_train_pred = model.predict(X_train, verbose=0)\n",
        "train_mae_loss = np.mean(np.abs(X_train_pred - X_train), axis=1)\n",
        "\n",
        "plt.hist(train_mae_loss, bins=50)\n",
        "plt.xlabel('Train MAE loss')\n",
        "plt.ylabel('Number of Samples');\n",
        "\n",
        "threshold = np.max(train_mae_loss)\n",
        "print(f'Reconstruction error threshold: {threshold}')"
      ],
      "metadata": {
        "id": "B7P9ikLpPgOe",
        "outputId": "9ed3ad4f-7138-4da4-bb8c-4ba3c2e02176",
        "colab": {
          "base_uri": "https://localhost:8080/",
          "height": 296
        }
      },
      "execution_count": 75,
      "outputs": [
        {
          "output_type": "stream",
          "name": "stdout",
          "text": [
            "Reconstruction error threshold: 329.9081457519531\n"
          ]
        },
        {
          "output_type": "display_data",
          "data": {
            "text/plain": [
              "<Figure size 432x288 with 1 Axes>"
            ],
            "image/png": "[encoded data removed]"
          },
          "metadata": {
            "needs_background": "light"
          }
        }
      ]
    },
    {
      "cell_type": "code",
      "source": [
        "X_test_pred = model.predict(X_test, verbose=0)\n",
        "test_mae_loss = np.mean(np.abs(X_test_pred-X_test), axis=1)\n",
        "\n",
        "plt.hist(test_mae_loss, bins=50)\n",
        "plt.xlabel('Test MAE loss')\n",
        "plt.ylabel('Number of samples');"
      ],
      "metadata": {
        "id": "DkxC1tCQPjI1",
        "outputId": "c388cd6d-2e90-439b-978e-8c97e07520d2",
        "colab": {
          "base_uri": "https://localhost:8080/",
          "height": 279
        }
      },
      "execution_count": 76,
      "outputs": [
        {
          "output_type": "display_data",
          "data": {
            "text/plain": [
              "<Figure size 432x288 with 1 Axes>"
            ],
            "image/png": "[encoded data removed]"
          },
          "metadata": {
            "needs_background": "light"
          }
        }
      ]
    },
    {
      "cell_type": "code",
      "source": [
        "test_score_df = pd.DataFrame(test[TIME_STEPS:])\n",
        "test_score_df['loss'] = test_mae_loss\n",
        "test_score_df['threshold'] = threshold\n",
        "test_score_df['anomaly'] = test_score_df['loss'] > test_score_df['threshold']\n",
        "test_score_df['ID'] = test[TIME_STEPS:]['ID']\n",
        "\n",
        "fig = go.Figure()\n",
        "fig.add_trace(go.Scatter(x=test_score_df['Timestamp'], y=test_score_df['loss'], name='Test loss'))\n",
        "fig.add_trace(go.Scatter(x=test_score_df['Timestamp'], y=test_score_df['threshold'], name='Threshold'))\n",
        "fig.update_layout(showlegend=True, title='Test loss vs. Threshold')\n",
        "fig.show()"
      ],
      "metadata": {
        "id": "agRvy0qiK1C9"
      },
      "execution_count": 77,
      "outputs": []
    },
    {
      "cell_type": "code",
      "source": [
        "anomalies = test_score_df.loc[test_score_df['anomaly'] == True]\n",
        "anomalies.shape"
      ],
      "metadata": {
        "id": "k7_pj8onK5eK",
        "outputId": "5062007e-efbe-47fc-9461-1ea12ca6f2a0",
        "colab": {
          "base_uri": "https://localhost:8080/"
        }
      },
      "execution_count": 78,
      "outputs": [
        {
          "output_type": "execute_result",
          "data": {
            "text/plain": [
              "(1146752, 6)"
            ]
          },
          "metadata": {},
          "execution_count": 78
        }
      ]
    },
    {
      "cell_type": "markdown",
      "source": [
        "## True Positive & True Negative"
      ],
      "metadata": {
        "id": "kdfaWMBiLeeU"
      }
    },
    {
      "cell_type": "code",
      "source": [
        "TP=len(test_score_df.loc[(test_score_df['label']=='T') & test_score_df['anomaly']])"
      ],
      "metadata": {
        "id": "IZqWObYpLas2"
      },
      "execution_count": 79,
      "outputs": []
    },
    {
      "cell_type": "code",
      "source": [
        "TN=len(test_score_df.loc[(test_score_df['label']=='R') & ~test_score_df['anomaly']])"
      ],
      "metadata": {
        "id": "guU7PrqNLhww"
      },
      "execution_count": 80,
      "outputs": []
    },
    {
      "cell_type": "markdown",
      "source": [
        "### False Positive & False Negative"
      ],
      "metadata": {
        "id": "gYJKbT6nLjWm"
      }
    },
    {
      "cell_type": "code",
      "source": [
        "FP=len(test_score_df.loc[(test_score_df['label']=='R') & test_score_df['anomaly']])"
      ],
      "metadata": {
        "id": "073QIUaDLmsX"
      },
      "execution_count": 81,
      "outputs": []
    },
    {
      "cell_type": "code",
      "source": [
        "FN=len(test_score_df.loc[(test_score_df['label']=='T') & ~test_score_df['anomaly']])"
      ],
      "metadata": {
        "id": "8aYLdUxKLqSh"
      },
      "execution_count": 82,
      "outputs": []
    },
    {
      "cell_type": "markdown",
      "source": [
        "## Result"
      ],
      "metadata": {
        "id": "l2xpk-uhLvqA"
      }
    },
    {
      "cell_type": "markdown",
      "source": [
        "### Accuracy"
      ],
      "metadata": {
        "id": "XioHgXlyLzuy"
      }
    },
    {
      "cell_type": "code",
      "source": [
        "(TP+TN)/(TP+TN+FP+FN)"
      ],
      "metadata": {
        "id": "j-G-T1dWLwyA",
        "outputId": "cb5ad5be-7369-4eef-836f-6801a094dbbb",
        "colab": {
          "base_uri": "https://localhost:8080/"
        }
      },
      "execution_count": 83,
      "outputs": [
        {
          "output_type": "execute_result",
          "data": {
            "text/plain": [
              "0.8464271259488626"
            ]
          },
          "metadata": {},
          "execution_count": 83
        }
      ]
    },
    {
      "cell_type": "markdown",
      "source": [
        "Accuracy decreased. In my opinion, time step was too high for detecting granular changes.   \n",
        "Maybe should try time step less than 20 and time step between 20 and 100(maybe 50)."
      ],
      "metadata": {
        "id": "wzYetNZJTVB9"
      }
    },
    {
      "cell_type": "markdown",
      "source": [
        "## Time step 10"
      ],
      "metadata": {
        "id": "F20Rg8dxT5oF"
      }
    },
    {
      "cell_type": "code",
      "source": [
        "TIME_STEPS=10\n",
        "\n",
        "def create_sequences(X, y, time_steps=TIME_STEPS):\n",
        "    Xs, ys = [], []\n",
        "    for i in range(len(X)-time_steps):\n",
        "\n",
        "        Xs.append(X.iloc[i:(i+time_steps)].values)\n",
        "        ys.append(y.iloc[i+time_steps])\n",
        "    \n",
        "    return np.array(Xs), np.array(ys)"
      ],
      "metadata": {
        "id": "_G4oQnoET7MR"
      },
      "execution_count": 12,
      "outputs": []
    },
    {
      "cell_type": "code",
      "source": [
        "X_train, y_train = create_sequences(train[['ID']][:200000], train['ID'][:200000])\n",
        "print(f'Training shape: {X_train.shape}')"
      ],
      "metadata": {
        "id": "zmaRRiDyT-uX",
        "outputId": "076f2d5e-372c-4efc-c369-c3da25f986ec",
        "colab": {
          "base_uri": "https://localhost:8080/"
        }
      },
      "execution_count": 13,
      "outputs": [
        {
          "output_type": "stream",
          "name": "stdout",
          "text": [
            "Training shape: (199990, 10, 1)\n"
          ]
        }
      ]
    },
    {
      "cell_type": "code",
      "source": [
        "X_test, y_test = create_sequences(test[['ID']], test['ID'])\n",
        "print(f'Testing shape: {X_test.shape}')"
      ],
      "metadata": {
        "id": "J_6Bb5DLUDcZ",
        "outputId": "4cb371b6-3b1e-44f2-f6f9-6120e0036cd1",
        "colab": {
          "base_uri": "https://localhost:8080/"
        }
      },
      "execution_count": 14,
      "outputs": [
        {
          "metadata": {
            "tags": null
          },
          "name": "stdout",
          "output_type": "stream",
          "text": [
            "Testing shape: (3665760, 10, 1)\n"
          ]
        }
      ]
    },
    {
      "cell_type": "code",
      "source": [
        "model = Sequential()\n",
        "model.add(LSTM(128, input_shape=(X_train.shape[1], X_train.shape[2])))\n",
        "model.add(Dropout(rate=0.2))\n",
        "model.add(RepeatVector(X_train.shape[1]))\n",
        "model.add(LSTM(128, return_sequences=True))\n",
        "model.add(Dropout(rate=0.2))\n",
        "model.add(TimeDistributed(Dense(X_train.shape[2])))\n",
        "model.compile(optimizer='adam', loss='mae')\n",
        "model.summary()"
      ],
      "metadata": {
        "id": "MzdqfDPWUGsE",
        "outputId": "f28f2382-6dac-4fab-bdb2-1d41aeb53435",
        "colab": {
          "base_uri": "https://localhost:8080/"
        }
      },
      "execution_count": 15,
      "outputs": [
        {
          "metadata": {
            "tags": null
          },
          "name": "stdout",
          "output_type": "stream",
          "text": [
            "Model: \"sequential\"\n",
            "_________________________________________________________________\n",
            " Layer (type)                Output Shape              Param #   \n",
            "=================================================================\n",
            " lstm (LSTM)                 (None, 128)               66560     \n",
            "                                                                 \n",
            " dropout (Dropout)           (None, 128)               0         \n",
            "                                                                 \n",
            " repeat_vector (RepeatVector  (None, 10, 128)          0         \n",
            " )                                                               \n",
            "                                                                 \n",
            " lstm_1 (LSTM)               (None, 10, 128)           131584    \n",
            "                                                                 \n",
            " dropout_1 (Dropout)         (None, 10, 128)           0         \n",
            "                                                                 \n",
            " time_distributed (TimeDistr  (None, 10, 1)            129       \n",
            " ibuted)                                                         \n",
            "                                                                 \n",
            "=================================================================\n",
            "Total params: 198,273\n",
            "Trainable params: 198,273\n",
            "Non-trainable params: 0\n",
            "_________________________________________________________________\n"
          ]
        }
      ]
    },
    {
      "cell_type": "code",
      "source": [
        "history = model.fit(X_train, y_train, epochs=100, batch_size=32, validation_split=0.1,\n",
        "                    callbacks=[keras.callbacks.EarlyStopping(monitor='val_loss', patience=3, mode='min')], shuffle=False)"
      ],
      "metadata": {
        "id": "iDHlHRVtUNDa",
        "outputId": "0433f13b-348e-4423-a430-3bc4d1c047a3",
        "colab": {
          "base_uri": "https://localhost:8080/"
        }
      },
      "execution_count": 16,
      "outputs": [
        {
          "metadata": {
            "tags": null
          },
          "name": "stdout",
          "output_type": "stream",
          "text": [
            "Epoch 1/100\n",
            "5625/5625 [==============================] - 41s 6ms/step - loss: 448.2632 - val_loss: 318.4937\n",
            "Epoch 2/100\n",
            "5625/5625 [==============================] - 32s 6ms/step - loss: 305.1842 - val_loss: 302.5700\n",
            "Epoch 3/100\n",
            "5625/5625 [==============================] - 32s 6ms/step - loss: 303.8634 - val_loss: 302.5663\n",
            "Epoch 4/100\n",
            "5625/5625 [==============================] - 32s 6ms/step - loss: 303.8500 - val_loss: 302.5710\n",
            "Epoch 5/100\n",
            "5625/5625 [==============================] - 32s 6ms/step - loss: 303.8414 - val_loss: 302.5616\n",
            "Epoch 6/100\n",
            "5625/5625 [==============================] - 32s 6ms/step - loss: 303.8360 - val_loss: 302.5551\n",
            "Epoch 7/100\n",
            "5625/5625 [==============================] - 32s 6ms/step - loss: 303.8320 - val_loss: 302.5472\n",
            "Epoch 8/100\n",
            "5625/5625 [==============================] - 32s 6ms/step - loss: 303.8235 - val_loss: 302.5446\n",
            "Epoch 9/100\n",
            "5625/5625 [==============================] - 32s 6ms/step - loss: 303.8113 - val_loss: 302.5249\n",
            "Epoch 10/100\n",
            "5625/5625 [==============================] - 32s 6ms/step - loss: 303.8063 - val_loss: 302.5259\n",
            "Epoch 11/100\n",
            "5625/5625 [==============================] - 32s 6ms/step - loss: 303.8027 - val_loss: 302.5221\n",
            "Epoch 12/100\n",
            "5625/5625 [==============================] - 32s 6ms/step - loss: 303.7919 - val_loss: 302.4972\n",
            "Epoch 13/100\n",
            "5625/5625 [==============================] - 32s 6ms/step - loss: 303.7869 - val_loss: 302.5024\n",
            "Epoch 14/100\n",
            "5625/5625 [==============================] - 32s 6ms/step - loss: 303.7827 - val_loss: 302.5142\n",
            "Epoch 15/100\n",
            "5625/5625 [==============================] - 32s 6ms/step - loss: 303.7731 - val_loss: 302.5016\n"
          ]
        }
      ]
    },
    {
      "cell_type": "code",
      "source": [
        "plt.plot(history.history['loss'], label='Training loss')\n",
        "plt.plot(history.history['val_loss'], label='Validation loss')\n",
        "plt.legend();"
      ],
      "metadata": {
        "id": "2TcGG34sUOdE",
        "outputId": "56a45ac4-3640-4bfe-b26a-88e022afa64c",
        "colab": {
          "base_uri": "https://localhost:8080/",
          "height": 265
        }
      },
      "execution_count": 17,
      "outputs": [
        {
          "data": {
            "image/png": "[encoded data removed]",
            "text/plain": [
              "<Figure size 432x288 with 1 Axes>"
            ]
          },
          "metadata": {},
          "output_type": "display_data"
        }
      ]
    },
    {
      "cell_type": "code",
      "source": [
        "model.evaluate(X_test, y_test)"
      ],
      "metadata": {
        "id": "-t6bc4JzUSFB",
        "outputId": "2fc82926-0f74-46b8-d64c-a9cb4bee37e9",
        "colab": {
          "base_uri": "https://localhost:8080/"
        }
      },
      "execution_count": 18,
      "outputs": [
        {
          "metadata": {
            "tags": null
          },
          "name": "stdout",
          "output_type": "stream",
          "text": [
            "114555/114555 [==============================] - 329s 3ms/step - loss: 377.0321\n"
          ]
        },
        {
          "data": {
            "text/plain": [
              "377.0321350097656"
            ]
          },
          "execution_count": 18,
          "metadata": {},
          "output_type": "execute_result"
        }
      ]
    },
    {
      "cell_type": "code",
      "source": [
        "X_train_pred = model.predict(X_train, verbose=0)\n",
        "train_mae_loss = np.mean(np.abs(X_train_pred - X_train), axis=1)\n",
        "\n",
        "plt.hist(train_mae_loss, bins=50)\n",
        "plt.xlabel('Train MAE loss')\n",
        "plt.ylabel('Number of Samples');\n",
        "\n",
        "threshold = np.max(train_mae_loss)\n",
        "print(f'Reconstruction error threshold: {threshold}')"
      ],
      "metadata": {
        "id": "4aA4DnHfUUHr",
        "outputId": "afc39b8e-8c57-4db3-fe16-bf4d7ed8c647",
        "colab": {
          "base_uri": "https://localhost:8080/",
          "height": 296
        }
      },
      "execution_count": 19,
      "outputs": [
        {
          "metadata": {
            "tags": null
          },
          "name": "stdout",
          "output_type": "stream",
          "text": [
            "Reconstruction error threshold: 558.9774780273438\n"
          ]
        },
        {
          "data": {
            "image/png": "[encoded data removed]",
            "text/plain": [
              "<Figure size 432x288 with 1 Axes>"
            ]
          },
          "metadata": {},
          "output_type": "display_data"
        }
      ]
    },
    {
      "cell_type": "code",
      "source": [
        "X_test_pred = model.predict(X_test, verbose=0)\n",
        "test_mae_loss = np.mean(np.abs(X_test_pred-X_test), axis=1)\n",
        "\n",
        "plt.hist(test_mae_loss, bins=50)\n",
        "plt.xlabel('Test MAE loss')\n",
        "plt.ylabel('Number of samples');"
      ],
      "metadata": {
        "id": "R_xZmwZsUVzv",
        "outputId": "a88aa055-37df-49fa-bb36-c4586e894cd3",
        "colab": {
          "base_uri": "https://localhost:8080/",
          "height": 279
        }
      },
      "execution_count": 20,
      "outputs": [
        {
          "data": {
            "image/png": "[encoded data removed]",
            "text/plain": [
              "<Figure size 432x288 with 1 Axes>"
            ]
          },
          "metadata": {},
          "output_type": "display_data"
        }
      ]
    },
    {
      "cell_type": "code",
      "source": [
        "test_score_df = pd.DataFrame(test[TIME_STEPS:])\n",
        "test_score_df['loss'] = test_mae_loss\n",
        "test_score_df['threshold'] = threshold\n",
        "test_score_df['anomaly'] = test_score_df['loss'] > test_score_df['threshold']\n",
        "test_score_df['ID'] = test[TIME_STEPS:]['ID']\n",
        "\n",
        "fig = go.Figure()\n",
        "fig.add_trace(go.Scatter(x=test_score_df['Timestamp'], y=test_score_df['loss'], name='Test loss'))\n",
        "fig.add_trace(go.Scatter(x=test_score_df['Timestamp'], y=test_score_df['threshold'], name='Threshold'))\n",
        "fig.update_layout(showlegend=True, title='Test loss vs. Threshold')\n",
        "fig.show()"
      ],
      "metadata": {
        "id": "3cm-DAOpUX-m"
      },
      "execution_count": null,
      "outputs": []
    },
    {
      "cell_type": "code",
      "source": [
        "anomalies = test_score_df.loc[test_score_df['anomaly'] == True]\n",
        "anomalies.shape"
      ],
      "metadata": {
        "id": "kWrDOuFuUZYW"
      },
      "execution_count": null,
      "outputs": []
    },
    {
      "cell_type": "markdown",
      "source": [
        "### Result"
      ],
      "metadata": {
        "id": "yD53kbbmUe0r"
      }
    },
    {
      "cell_type": "code",
      "source": [
        "TP=len(test_score_df.loc[(test_score_df['label']=='T') & test_score_df['anomaly']])"
      ],
      "metadata": {
        "id": "dICjoS8TUf1A"
      },
      "execution_count": 23,
      "outputs": []
    },
    {
      "cell_type": "code",
      "source": [
        "TN=len(test_score_df.loc[(test_score_df['label']=='R') & ~test_score_df['anomaly']])"
      ],
      "metadata": {
        "id": "Rzh10WHoUhGW"
      },
      "execution_count": 24,
      "outputs": []
    },
    {
      "cell_type": "code",
      "source": [
        "FP=len(test_score_df.loc[(test_score_df['label']=='R') & test_score_df['anomaly']])"
      ],
      "metadata": {
        "id": "SEClEgbnUhkM"
      },
      "execution_count": 25,
      "outputs": []
    },
    {
      "cell_type": "code",
      "source": [
        "FN=len(test_score_df.loc[(test_score_df['label']=='T') & ~test_score_df['anomaly']])"
      ],
      "metadata": {
        "id": "2F-ca3IqUhy7"
      },
      "execution_count": 26,
      "outputs": []
    },
    {
      "cell_type": "markdown",
      "source": [
        "### Accuracy"
      ],
      "metadata": {
        "id": "fWuDg2gcUqeN"
      }
    },
    {
      "cell_type": "code",
      "source": [
        "(TP+TN)/(TP+TN+FP+FN)"
      ],
      "metadata": {
        "id": "hU5LvsuVUsLJ",
        "outputId": "c9732ab0-4e0a-44d9-ad60-a997dc2b70fa",
        "colab": {
          "base_uri": "https://localhost:8080/"
        }
      },
      "execution_count": 27,
      "outputs": [
        {
          "output_type": "execute_result",
          "data": {
            "text/plain": [
              "0.8393758604864617"
            ]
          },
          "metadata": {},
          "execution_count": 27
        }
      ]
    }
  ],
  "metadata": {
    "accelerator": "GPU",
    "colab": {
      "provenance": []
    },
    "gpuClass": "premium",
    "kernelspec": {
      "display_name": "Python 3.7.0 64-bit",
      "language": "python",
      "name": "python3"
    },
    "language_info": {
      "codemirror_mode": {
        "name": "ipython",
        "version": 3
      },
      "file_extension": ".py",
      "mimetype": "text/x-python",
      "name": "python",
      "nbconvert_exporter": "python",
      "pygments_lexer": "ipython3",
      "version": "3.7.0"
    },
    "orig_nbformat": 4,
    "vscode": {
      "interpreter": {
        "hash": "e774977668b7c0ae8309835a5187aa7fbf7669e7d0bb59755bc63e573643edcd"
      }
    }
  },
  "nbformat": 4,
  "nbformat_minor": 0
}