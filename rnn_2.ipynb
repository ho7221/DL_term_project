{
  "cells": [
    {
      "cell_type": "code",
      "execution_count": 1,
      "metadata": {
        "colab": {
          "base_uri": "https://localhost:8080/"
        },
        "id": "S8kohTkH4yy2",
        "outputId": "d621aa16-f6e8-4978-e5c1-d2962555f0ac"
      },
      "outputs": [
        {
          "name": "stdout",
          "output_type": "stream",
          "text": [
            "Mounted at /content/drive\n"
          ]
        }
      ],
      "source": [
        "from google.colab import drive\n",
        "drive.mount('/content/drive')"
      ]
    },
    {
      "cell_type": "code",
      "execution_count": 1,
      "metadata": {
        "id": "l2R8dhfkvixs"
      },
      "outputs": [],
      "source": [
        "import numpy as np\n",
        "import matplotlib.pyplot as plt\n",
        "import pandas as pd\n",
        "from tensorflow import keras\n",
        "from sklearn.preprocessing import StandardScaler\n",
        "\n",
        "import plotly.graph_objects as go\n",
        "\n",
        "np.random.seed(1)\n",
        "tf.random.set_seed(1)\n",
        "\n",
        "from tensorflow.keras.models import Sequential\n",
        "from tensorflow.keras.layers import Dense, LSTM, Dropout, RepeatVector, TimeDistributed"
      ]
    },
    {
      "cell_type": "code",
      "execution_count": 50,
      "metadata": {
        "id": "a3cGF8csvixt"
      },
      "outputs": [
        {
          "data": {
            "text/html": [
              "<div>\n",
              "<style scoped>\n",
              "    .dataframe tbody tr th:only-of-type {\n",
              "        vertical-align: middle;\n",
              "    }\n",
              "\n",
              "    .dataframe tbody tr th {\n",
              "        vertical-align: top;\n",
              "    }\n",
              "\n",
              "    .dataframe thead th {\n",
              "        text-align: right;\n",
              "    }\n",
              "</style>\n",
              "<table border=\"1\" class=\"dataframe\">\n",
              "  <thead>\n",
              "    <tr style=\"text-align: right;\">\n",
              "      <th></th>\n",
              "      <th>Timestamp</th>\n",
              "      <th>ID</th>\n",
              "      <th>label</th>\n",
              "    </tr>\n",
              "  </thead>\n",
              "  <tbody>\n",
              "    <tr>\n",
              "      <th>0</th>\n",
              "      <td>1.478198e+09</td>\n",
              "      <td>018f</td>\n",
              "      <td>R</td>\n",
              "    </tr>\n",
              "    <tr>\n",
              "      <th>1</th>\n",
              "      <td>1.478198e+09</td>\n",
              "      <td>0260</td>\n",
              "      <td>R</td>\n",
              "    </tr>\n",
              "    <tr>\n",
              "      <th>2</th>\n",
              "      <td>1.478198e+09</td>\n",
              "      <td>02a0</td>\n",
              "      <td>R</td>\n",
              "    </tr>\n",
              "    <tr>\n",
              "      <th>3</th>\n",
              "      <td>1.478198e+09</td>\n",
              "      <td>0329</td>\n",
              "      <td>R</td>\n",
              "    </tr>\n",
              "    <tr>\n",
              "      <th>4</th>\n",
              "      <td>1.478198e+09</td>\n",
              "      <td>0545</td>\n",
              "      <td>R</td>\n",
              "    </tr>\n",
              "  </tbody>\n",
              "</table>\n",
              "</div>"
            ],
            "text/plain": [
              "      Timestamp    ID label\n",
              "0  1.478198e+09  018f     R\n",
              "1  1.478198e+09  0260     R\n",
              "2  1.478198e+09  02a0     R\n",
              "3  1.478198e+09  0329     R\n",
              "4  1.478198e+09  0545     R"
            ]
          },
          "execution_count": 50,
          "metadata": {},
          "output_type": "execute_result"
        }
      ],
      "source": [
        "normal_df=pd.read_csv('/content/drive/MyDrive/CANIDS/Data/normal_run_data.csv')\n",
        "normal_df['label']='R'\n",
        "normal_df=normal_df.drop(columns=['DLC', 'D1', 'D2', 'D3', 'D4', 'D5', 'D6', 'D7', 'D8'])\n",
        "\n",
        "DoS_df=pd.read_csv('/content/drive/MyDrive/CANIDS/Data/DoS_dataset.csv')\n",
        "DoS_df=pd.concat([DoS_df.iloc[:,0:2],DoS_df.iloc[:,-1]],axis=1)\n",
        "DoS_df.columns=['Timestamp','ID','label']\n",
        "DoS_df.head()"
      ]
    },
    {
      "cell_type": "code",
      "execution_count": 25,
      "metadata": {
        "colab": {
          "base_uri": "https://localhost:8080/"
        },
        "id": "kJ9BwCil1oMT",
        "outputId": "ca9a9b03-579e-49fa-b21d-267843d545b5"
      },
      "outputs": [
        {
          "data": {
            "text/plain": [
              "Timestamp    float64\n",
              "ID            object\n",
              "label         object\n",
              "dtype: object"
            ]
          },
          "execution_count": 25,
          "metadata": {},
          "output_type": "execute_result"
        }
      ],
      "source": [
        "DoS_df.dtypes"
      ]
    },
    {
      "cell_type": "code",
      "execution_count": 29,
      "metadata": {
        "id": "h_W5zrAlvixu"
      },
      "outputs": [],
      "source": [
        "def h2i(s):\n",
        "    return int(s,16)\n",
        "\n",
        "def d2t(s):\n",
        "  return pd.Timestamp(s,unit=\"s\")\n",
        "\n",
        "def s2i(s):\n",
        "    if s=='R':\n",
        "      return 0\n",
        "    else:\n",
        "      return 1"
      ]
    },
    {
      "cell_type": "code",
      "execution_count": 51,
      "metadata": {
        "id": "Gb-21hB5oWK4"
      },
      "outputs": [],
      "source": [
        "normal_df['ID']=normal_df['ID'].apply(h2i)\n",
        "DoS_df['ID']=DoS_df['ID'].apply(h2i)\n",
        "normal_df['Timestamp']=normal_df['Timestamp'].apply(d2t)\n",
        "DoS_df['Timestamp']=DoS_df['Timestamp'].apply(d2t)"
      ]
    },
    {
      "cell_type": "code",
      "execution_count": 45,
      "metadata": {},
      "outputs": [
        {
          "data": {
            "text/html": [
              "<div>\n",
              "<style scoped>\n",
              "    .dataframe tbody tr th:only-of-type {\n",
              "        vertical-align: middle;\n",
              "    }\n",
              "\n",
              "    .dataframe tbody tr th {\n",
              "        vertical-align: top;\n",
              "    }\n",
              "\n",
              "    .dataframe thead th {\n",
              "        text-align: right;\n",
              "    }\n",
              "</style>\n",
              "<table border=\"1\" class=\"dataframe\">\n",
              "  <thead>\n",
              "    <tr style=\"text-align: right;\">\n",
              "      <th></th>\n",
              "      <th>Timestamp</th>\n",
              "      <th>ID</th>\n",
              "      <th>label</th>\n",
              "    </tr>\n",
              "  </thead>\n",
              "  <tbody>\n",
              "    <tr>\n",
              "      <th>0</th>\n",
              "      <td>2016-11-14 11:03:54.850201845</td>\n",
              "      <td>848</td>\n",
              "      <td>R</td>\n",
              "    </tr>\n",
              "    <tr>\n",
              "      <th>1</th>\n",
              "      <td>2016-11-14 11:03:54.850423098</td>\n",
              "      <td>704</td>\n",
              "      <td>R</td>\n",
              "    </tr>\n",
              "    <tr>\n",
              "      <th>2</th>\n",
              "      <td>2016-11-14 11:03:54.850976944</td>\n",
              "      <td>1072</td>\n",
              "      <td>R</td>\n",
              "    </tr>\n",
              "    <tr>\n",
              "      <th>3</th>\n",
              "      <td>2016-11-14 11:03:54.851215124</td>\n",
              "      <td>1201</td>\n",
              "      <td>R</td>\n",
              "    </tr>\n",
              "    <tr>\n",
              "      <th>4</th>\n",
              "      <td>2016-11-14 11:03:54.851463079</td>\n",
              "      <td>497</td>\n",
              "      <td>R</td>\n",
              "    </tr>\n",
              "  </tbody>\n",
              "</table>\n",
              "</div>"
            ],
            "text/plain": [
              "                      Timestamp    ID label\n",
              "0 2016-11-14 11:03:54.850201845   848     R\n",
              "1 2016-11-14 11:03:54.850423098   704     R\n",
              "2 2016-11-14 11:03:54.850976944  1072     R\n",
              "3 2016-11-14 11:03:54.851215124  1201     R\n",
              "4 2016-11-14 11:03:54.851463079   497     R"
            ]
          },
          "execution_count": 45,
          "metadata": {},
          "output_type": "execute_result"
        }
      ],
      "source": [
        "normal_df.head()"
      ]
    },
    {
      "cell_type": "code",
      "execution_count": 46,
      "metadata": {
        "colab": {
          "base_uri": "https://localhost:8080/"
        },
        "id": "w5aVDnOr0Pmz",
        "outputId": "d4c4c364-d801-40de-8f13-45dd67b05534"
      },
      "outputs": [
        {
          "data": {
            "text/plain": [
              "Timestamp    datetime64[ns]\n",
              "ID                    int64\n",
              "label                object\n",
              "dtype: object"
            ]
          },
          "execution_count": 46,
          "metadata": {},
          "output_type": "execute_result"
        }
      ],
      "source": [
        "normal_df.dtypes"
      ]
    },
    {
      "cell_type": "code",
      "execution_count": 47,
      "metadata": {
        "colab": {
          "base_uri": "https://localhost:8080/",
          "height": 243
        },
        "id": "YNWt1Zaj0En5",
        "outputId": "6287c353-e1c0-4192-8e65-64f6e095e802"
      },
      "outputs": [
        {
          "data": {
            "image/png": "[encoded data removed]",
            "text/plain": [
              "<Figure size 640x480 with 1 Axes>"
            ]
          },
          "metadata": {},
          "output_type": "display_data"
        }
      ],
      "source": [
        "plot_features = normal_df['ID'][0:200]\n",
        "plot_features.index = normal_df['Timestamp'][0:200]\n",
        "_ = plot_features.plot(subplots=True)"
      ]
    },
    {
      "cell_type": "code",
      "execution_count": 54,
      "metadata": {},
      "outputs": [
        {
          "data": {
            "text/plain": [
              "((988742, 3), (3665770, 3))"
            ]
          },
          "execution_count": 54,
          "metadata": {},
          "output_type": "execute_result"
        }
      ],
      "source": [
        "normal_df.shape,DoS_df.shape\n",
        "train=normal_df\n",
        "test=DoS_df"
      ]
    },
    {
      "cell_type": "code",
      "execution_count": 55,
      "metadata": {},
      "outputs": [
        {
          "ename": "NameError",
          "evalue": "name 'StandardScaler' is not defined",
          "output_type": "error",
          "traceback": [
            "\u001b[0;31m---------------------------------------------------------------------------\u001b[0m",
            "\u001b[0;31mNameError\u001b[0m                                 Traceback (most recent call last)",
            "\u001b[0;32m/var/folders/6n/txlp40p947xbl8xqx_cmg3cr0000gn/T/ipykernel_939/1410690704.py\u001b[0m in \u001b[0;36m<module>\u001b[0;34m\u001b[0m\n\u001b[0;32m----> 1\u001b[0;31m \u001b[0mscaler\u001b[0m \u001b[0;34m=\u001b[0m \u001b[0mStandardScaler\u001b[0m\u001b[0;34m(\u001b[0m\u001b[0;34m)\u001b[0m\u001b[0;34m\u001b[0m\u001b[0m\n\u001b[0m\u001b[1;32m      2\u001b[0m \u001b[0mscaler\u001b[0m \u001b[0;34m=\u001b[0m \u001b[0mscaler\u001b[0m\u001b[0;34m.\u001b[0m\u001b[0mfit\u001b[0m\u001b[0;34m(\u001b[0m\u001b[0mtrain\u001b[0m\u001b[0;34m[\u001b[0m\u001b[0;34m[\u001b[0m\u001b[0;34m'ID'\u001b[0m\u001b[0;34m]\u001b[0m\u001b[0;34m]\u001b[0m\u001b[0;34m)\u001b[0m\u001b[0;34m\u001b[0m\u001b[0m\n\u001b[1;32m      3\u001b[0m \u001b[0;34m\u001b[0m\u001b[0m\n\u001b[1;32m      4\u001b[0m \u001b[0mtrain\u001b[0m\u001b[0;34m[\u001b[0m\u001b[0;34m'ID'\u001b[0m\u001b[0;34m]\u001b[0m \u001b[0;34m=\u001b[0m \u001b[0mscaler\u001b[0m\u001b[0;34m.\u001b[0m\u001b[0mtransform\u001b[0m\u001b[0;34m(\u001b[0m\u001b[0mtrain\u001b[0m\u001b[0;34m[\u001b[0m\u001b[0;34m[\u001b[0m\u001b[0;34m'ID'\u001b[0m\u001b[0;34m]\u001b[0m\u001b[0;34m]\u001b[0m\u001b[0;34m)\u001b[0m\u001b[0;34m\u001b[0m\u001b[0m\n\u001b[1;32m      5\u001b[0m \u001b[0mtest\u001b[0m\u001b[0;34m[\u001b[0m\u001b[0;34m'ID'\u001b[0m\u001b[0;34m]\u001b[0m \u001b[0;34m=\u001b[0m \u001b[0mscaler\u001b[0m\u001b[0;34m.\u001b[0m\u001b[0mtransform\u001b[0m\u001b[0;34m(\u001b[0m\u001b[0mtest\u001b[0m\u001b[0;34m[\u001b[0m\u001b[0;34m[\u001b[0m\u001b[0;34m'ID'\u001b[0m\u001b[0;34m]\u001b[0m\u001b[0;34m]\u001b[0m\u001b[0;34m)\u001b[0m\u001b[0;34m\u001b[0m\u001b[0m\n",
            "\u001b[0;31mNameError\u001b[0m: name 'StandardScaler' is not defined"
          ]
        }
      ],
      "source": [
        "scaler = StandardScaler()\n",
        "scaler = scaler.fit(train[['ID']])\n",
        "\n",
        "train['ID'] = scaler.transform(train[['ID']])\n",
        "test['ID'] = scaler.transform(test[['ID']])"
      ]
    },
    {
      "cell_type": "code",
      "execution_count": null,
      "metadata": {},
      "outputs": [],
      "source": [
        "TIME_STEPS=30\n",
        "\n",
        "def create_sequences(X, y, time_steps=TIME_STEPS):\n",
        "    Xs, ys = [], []\n",
        "    for i in range(len(X)-time_steps):\n",
        "        Xs.append(X.iloc[i:(i+time_steps)].values)\n",
        "        ys.append(y.iloc[i+time_steps])\n",
        "    \n",
        "    return np.array(Xs), np.array(ys)\n",
        "\n",
        "X_train, y_train = create_sequences(train[['ID']], train['ID'])\n",
        "X_test, y_test = create_sequences(test[['ID']], test['ID'])\n",
        "\n",
        "print(f'Training shape: {X_train.shape}')\n",
        "print(f'Testing shape: {X_test.shape}')"
      ]
    },
    {
      "cell_type": "code",
      "execution_count": null,
      "metadata": {},
      "outputs": [],
      "source": [
        "model = Sequential()\n",
        "model.add(LSTM(128, input_shape=(X_train.shape[1], X_train.shape[2])))\n",
        "model.add(Dropout(rate=0.2))\n",
        "model.add(RepeatVector(X_train.shape[1]))\n",
        "model.add(LSTM(128, return_sequences=True))\n",
        "model.add(Dropout(rate=0.2))\n",
        "model.add(TimeDistributed(Dense(X_train.shape[2])))\n",
        "model.compile(optimizer='adam', loss='mae')\n",
        "model.summary()"
      ]
    },
    {
      "cell_type": "code",
      "execution_count": null,
      "metadata": {},
      "outputs": [],
      "source": [
        "history = model.fit(X_train, y_train, epochs=100, batch_size=32, validation_split=0.1,\n",
        "                    callbacks=[keras.callbacks.EarlyStopping(monitor='val_loss', patience=3, mode='min')], shuffle=False)"
      ]
    },
    {
      "cell_type": "code",
      "execution_count": null,
      "metadata": {},
      "outputs": [],
      "source": [
        "plt.plot(history.history['loss'], label='Training loss')\n",
        "plt.plot(history.history['val_loss'], label='Validation loss')\n",
        "plt.legend();"
      ]
    },
    {
      "cell_type": "code",
      "execution_count": null,
      "metadata": {},
      "outputs": [],
      "source": [
        "model.evaluate(X_test, y_test)"
      ]
    },
    {
      "cell_type": "code",
      "execution_count": null,
      "metadata": {},
      "outputs": [],
      "source": [
        "X_train_pred = model.predict(X_train, verbose=0)\n",
        "train_mae_loss = np.mean(np.abs(X_train_pred - X_train), axis=1)\n",
        "\n",
        "plt.hist(train_mae_loss, bins=50)\n",
        "plt.xlabel('Train MAE loss')\n",
        "plt.ylabel('Number of Samples');\n",
        "\n",
        "threshold = np.max(train_mae_loss)\n",
        "print(f'Reconstruction error threshold: {threshold}')"
      ]
    },
    {
      "cell_type": "code",
      "execution_count": null,
      "metadata": {},
      "outputs": [],
      "source": [
        "X_test_pred = model.predict(X_test, verbose=0)\n",
        "test_mae_loss = np.mean(np.abs(X_test_pred-X_test), axis=1)\n",
        "\n",
        "plt.hist(test_mae_loss, bins=50)\n",
        "plt.xlabel('Test MAE loss')\n",
        "plt.ylabel('Number of samples');"
      ]
    },
    {
      "cell_type": "code",
      "execution_count": null,
      "metadata": {},
      "outputs": [],
      "source": [
        "test_score_df = pd.DataFrame(test[TIME_STEPS:])\n",
        "test_score_df['loss'] = test_mae_loss\n",
        "test_score_df['threshold'] = threshold\n",
        "test_score_df['anomaly'] = test_score_df['loss'] > test_score_df['threshold']\n",
        "test_score_df['ID'] = test[TIME_STEPS:]['ID']\n",
        "\n",
        "fig = go.Figure()\n",
        "fig.add_trace(go.Scatter(x=test_score_df['Timestamp'], y=test_score_df['loss'], name='Test loss'))\n",
        "fig.add_trace(go.Scatter(x=test_score_df['Timestamp'], y=test_score_df['threshold'], name='Threshold'))\n",
        "fig.update_layout(showlegend=True, title='Test loss vs. Threshold')\n",
        "fig.show()"
      ]
    },
    {
      "cell_type": "code",
      "execution_count": null,
      "metadata": {},
      "outputs": [],
      "source": [
        "anomalies = test_score_df.loc[test_score_df['anomaly'] == True]\n",
        "anomalies.shape"
      ]
    },
    {
      "cell_type": "code",
      "execution_count": null,
      "metadata": {},
      "outputs": [],
      "source": [
        "fig = go.Figure()\n",
        "fig.add_trace(go.Scatter(x=test_score_df['Timestamp'], y=scaler.inverse_transform(test_score_df['ID']), name='ID'))\n",
        "fig.add_trace(go.Scatter(x=anomalies['Timestamp'], y=scaler.inverse_transform(anomalies['ID']), mode='markers', name='Anomaly'))\n",
        "fig.update_layout(showlegend=True, title='Detected anomalies')\n",
        "fig.show()"
      ]
    }
  ],
  "metadata": {
    "accelerator": "GPU",
    "colab": {
      "provenance": []
    },
    "gpuClass": "premium",
    "kernelspec": {
      "display_name": "Python 3.7.0 64-bit",
      "language": "python",
      "name": "python3"
    },
    "language_info": {
      "codemirror_mode": {
        "name": "ipython",
        "version": 3
      },
      "file_extension": ".py",
      "mimetype": "text/x-python",
      "name": "python",
      "nbconvert_exporter": "python",
      "pygments_lexer": "ipython3",
      "version": "3.7.0"
    },
    "orig_nbformat": 4,
    "vscode": {
      "interpreter": {
        "hash": "e774977668b7c0ae8309835a5187aa7fbf7669e7d0bb59755bc63e573643edcd"
      }
    }
  },
  "nbformat": 4,
  "nbformat_minor": 0
}
